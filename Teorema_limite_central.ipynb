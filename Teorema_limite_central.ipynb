{
  "nbformat": 4,
  "nbformat_minor": 0,
  "metadata": {
    "colab": {
      "name": "Teorema_limite_central.ipynb",
      "provenance": [],
      "authorship_tag": "ABX9TyNxMdG8/D7OILNIdT/SfLsh",
      "include_colab_link": true
    },
    "kernelspec": {
      "name": "python3",
      "display_name": "Python 3"
    },
    "language_info": {
      "name": "python"
    }
  },
  "cells": [
    {
      "cell_type": "markdown",
      "metadata": {
        "id": "view-in-github",
        "colab_type": "text"
      },
      "source": [
        "<a href=\"https://colab.research.google.com/github/guifluz/studies/blob/master/Teorema_limite_central.ipynb\" target=\"_parent\"><img src=\"https://colab.research.google.com/assets/colab-badge.svg\" alt=\"Open In Colab\"/></a>"
      ]
    },
    {
      "cell_type": "markdown",
      "metadata": {
        "id": "qdNp4TlJO52X"
      },
      "source": [
        "**Neste notebook realizaremos uma validação prática do Teorema do Limite Central apresentado em aula.**\n",
        "\n",
        "---\n",
        "*Primeiro, vamos adicionar as dependências*\n"
      ]
    },
    {
      "cell_type": "code",
      "metadata": {
        "id": "m6sNhnAcOoVG"
      },
      "source": [
        "import numpy as np\n",
        "import seaborn as sns\n",
        "import statistics as stat\n",
        "from scipy.stats import skewnorm"
      ],
      "execution_count": 3,
      "outputs": []
    },
    {
      "cell_type": "markdown",
      "metadata": {
        "id": "rf-9LlMaPzcr"
      },
      "source": [
        "*Agora iremos simular uma distribuição populacional que não siga uma distribuição normal. Para isso, utilizaremos a formula skewnorm.*"
      ]
    },
    {
      "cell_type": "code",
      "metadata": {
        "id": "TZ1jZw4mPyBS"
      },
      "source": [
        "dist_pop = skewnorm.rvs(12, size=1000)"
      ],
      "execution_count": 4,
      "outputs": []
    },
    {
      "cell_type": "code",
      "metadata": {
        "colab": {
          "base_uri": "https://localhost:8080/",
          "height": 387
        },
        "id": "_VAZUTL8QWHn",
        "outputId": "f706e76b-b499-4ab4-e20e-7162d302ec15"
      },
      "source": [
        "sns.displot(dist_pop)"
      ],
      "execution_count": 5,
      "outputs": [
        {
          "output_type": "execute_result",
          "data": {
            "text/plain": [
              "<seaborn.axisgrid.FacetGrid at 0x7f644718e7d0>"
            ]
          },
          "metadata": {
            "tags": []
          },
          "execution_count": 5
        },
        {
          "output_type": "display_data",
          "data": {
            "image/png": "[encoded data removed]",
            "text/plain": [
              "<Figure size 360x360 with 1 Axes>"
            ]
          },
          "metadata": {
            "tags": [],
            "needs_background": "light"
          }
        }
      ]
    },
    {
      "cell_type": "markdown",
      "metadata": {
        "id": "CWbNypEVRmSg"
      },
      "source": [
        "*O próximo passo será definir uma função de médias*"
      ]
    },
    {
      "cell_type": "code",
      "metadata": {
        "id": "PlRQMjqfRneW"
      },
      "source": [
        "def calculador_de_medias(populacao, tamanho_amostral, numero_amostras):\n",
        "  amostras = []\n",
        "  for i in range(numero_amostras):\n",
        "    amostra = np.random.choice(populacao,size=tamanho_amostral,replace=False)\n",
        "    media_amostral = stat.mean(amostra)\n",
        "    amostras.append(media_amostral)\n",
        "  return amostras"
      ],
      "execution_count": 8,
      "outputs": []
    },
    {
      "cell_type": "code",
      "metadata": {
        "colab": {
          "base_uri": "https://localhost:8080/",
          "height": 320
        },
        "id": "ZPmmHSHSTRF_",
        "outputId": "b80d7e1d-46f8-435c-c55c-abb405c040eb"
      },
      "source": [
        "_ = sns.distplot(calculador_de_medias(dist_pop, 10,1000))"
      ],
      "execution_count": 10,
      "outputs": [
        {
          "output_type": "stream",
          "text": [
            "/usr/local/lib/python3.7/dist-packages/seaborn/distributions.py:2557: FutureWarning: `distplot` is a deprecated function and will be removed in a future version. Please adapt your code to use either `displot` (a figure-level function with similar flexibility) or `histplot` (an axes-level function for histograms).\n",
            "  warnings.warn(msg, FutureWarning)\n"
          ],
          "name": "stderr"
        },
        {
          "output_type": "display_data",
          "data": {
            "image/png": "[encoded data removed]",
            "text/plain": [
              "<Figure size 432x288 with 1 Axes>"
            ]
          },
          "metadata": {
            "tags": [],
            "needs_background": "light"
          }
        }
      ]
    },
    {
      "cell_type": "markdown",
      "metadata": {
        "id": "k_GZJY5bTwBm"
      },
      "source": [
        "*Podemos realizar uma distribuição uniforme, provando que qualquer tipo populacional seguirá o mesmo princípio*"
      ]
    },
    {
      "cell_type": "code",
      "metadata": {
        "id": "TiI1kX80TuPm"
      },
      "source": [
        "pop_uniforme = np.random.uniform(size=1000)"
      ],
      "execution_count": 11,
      "outputs": []
    },
    {
      "cell_type": "code",
      "metadata": {
        "colab": {
          "base_uri": "https://localhost:8080/",
          "height": 320
        },
        "id": "6Qap6JbcT8cx",
        "outputId": "d92c046c-17e4-40ef-e85c-170bd1059efd"
      },
      "source": [
        "_ = sns.distplot(pop_uniforme, kde=False)"
      ],
      "execution_count": 12,
      "outputs": [
        {
          "output_type": "stream",
          "text": [
            "/usr/local/lib/python3.7/dist-packages/seaborn/distributions.py:2557: FutureWarning: `distplot` is a deprecated function and will be removed in a future version. Please adapt your code to use either `displot` (a figure-level function with similar flexibility) or `histplot` (an axes-level function for histograms).\n",
            "  warnings.warn(msg, FutureWarning)\n"
          ],
          "name": "stderr"
        },
        {
          "output_type": "display_data",
          "data": {
            "image/png": "[encoded data removed]",
            "text/plain": [
              "<Figure size 432x288 with 1 Axes>"
            ]
          },
          "metadata": {
            "tags": [],
            "needs_background": "light"
          }
        }
      ]
    },
    {
      "cell_type": "code",
      "metadata": {
        "colab": {
          "base_uri": "https://localhost:8080/",
          "height": 320
        },
        "id": "la8IJ-0kUDcM",
        "outputId": "fa611820-1a11-4802-b29d-c0925c20cb39"
      },
      "source": [
        "_ = sns.distplot(calculador_de_medias(pop_uniforme,100,10000))"
      ],
      "execution_count": 18,
      "outputs": [
        {
          "output_type": "stream",
          "text": [
            "/usr/local/lib/python3.7/dist-packages/seaborn/distributions.py:2557: FutureWarning: `distplot` is a deprecated function and will be removed in a future version. Please adapt your code to use either `displot` (a figure-level function with similar flexibility) or `histplot` (an axes-level function for histograms).\n",
            "  warnings.warn(msg, FutureWarning)\n"
          ],
          "name": "stderr"
        },
        {
          "output_type": "display_data",
          "data": {
            "image/png": "[encoded data removed]",
            "text/plain": [
              "<Figure size 432x288 with 1 Axes>"
            ]
          },
          "metadata": {
            "tags": [],
            "needs_background": "light"
          }
        }
      ]
    }
  ]
}