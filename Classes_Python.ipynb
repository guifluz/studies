{
  "nbformat": 4,
  "nbformat_minor": 0,
  "metadata": {
    "colab": {
      "name": "Cópia de Classes Python",
      "provenance": [],
      "collapsed_sections": [],
      "include_colab_link": true
    },
    "kernelspec": {
      "name": "python3",
      "display_name": "Python 3"
    }
  },
  "cells": [
    {
      "cell_type": "markdown",
      "metadata": {
        "id": "view-in-github",
        "colab_type": "text"
      },
      "source": [
        "<a href=\"https://colab.research.google.com/github/guifluz/studies/blob/master/Classes_Python.ipynb\" target=\"_parent\"><img src=\"https://colab.research.google.com/assets/colab-badge.svg\" alt=\"Open In Colab\"/></a>"
      ]
    },
    {
      "cell_type": "markdown",
      "metadata": {
        "id": "-fMcBg4_E7HX"
      },
      "source": [
        "\n",
        "![images.png](data:image/png;base64,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)</b> <br>Consultor: Peterson Almeida <br>\n",
        "\n",
        "\n",
        "\n",
        "<h1> Classes Python </h1>\n",
        "\n",
        "<b> Geral:</b><br>\n",
        "Classes são usadas como prótotipos para instanciar objetos, a programação orientada a objetos é um assunto que demandaria um curso inteiro com esse tema para conseguir passar por toda sua abrangência. Como python é uma programação orientada a objetos desde de sua fundação, não podemos deixar de ver os principais conceitos e termos aqui. Fornecemos na plataforma bibliografia para quem quiser se aprofundar mais.\n",
        "<br> <br>\n",
        "\n",
        "\n",
        "\n",
        "\n"
      ]
    },
    {
      "cell_type": "markdown",
      "metadata": {
        "id": "YwmBUj9HTMf-"
      },
      "source": [
        "<b>Objetos</b> <br>\n",
        "Objetos são compostos basicamente de dois atributos: \n",
        "\n",
        "1.   Estado -> Informações salvas nos atributos dos objetos.\n",
        "2.   Comportamento -> ações que o objeto pode tomar, representam as funções e métodos dentro do objeto.\n",
        "<br><br>\n",
        "**Classe**\n",
        "<br>\n",
        "Classes são usadas para instanciar objetos, para ficar menos abstratos vamos aplicar em um exemplo ilustrativo. \n",
        "\n",
        "\n",
        "> Criamos a **Classe Carro** <br> \n",
        "**Objetos** dessa classe poderiam ser **Fiat Uno**, **VW Gol**, **Corolla**\n",
        "<br>\n",
        "**Estado (Atributos)** seriam **Gasolina**, **óleo**, **água**...etc. <br>\n",
        "**Comportamentos (Funções e métodos)** seriam **acelerar**, **freiar**... etc.\n",
        "\n",
        "\n"
      ]
    },
    {
      "cell_type": "markdown",
      "metadata": {
        "id": "Hw7UPk70X5CX"
      },
      "source": [
        "Vamos ver como isso funcionaria na prática:"
      ]
    },
    {
      "cell_type": "code",
      "metadata": {
        "id": "6kBxzEzYWx12"
      },
      "source": [
        "class Carro():\n",
        "  def __init__(self, litros, velocidade=0):\n",
        "      self.litros = litros\n",
        "      self.velocidade = velocidade\n",
        "\n",
        "  def gasolina(self,litros=20):\n",
        "    print(\"Tem \",self.litros,\" de gasolina\")\n",
        "\n",
        "  def acelera(self,velocidade=0):\n",
        "    velocidade=self.velocidade\n",
        "    if self.velocidade < 120:\n",
        "      self.litros = self.litros-2\n",
        "      print(\"Velocidade: \",self.velocidade,\"\\nQuantidade de litros de gasolina: \",self.litros)\n",
        "    else:\n",
        "      self.litros = self.litros-5\n",
        "      print(\"Velocidade: \",self.velocidade,\"\\nQuantidade de litros de gasolina: \",self.litros)"
      ],
      "execution_count": null,
      "outputs": []
    },
    {
      "cell_type": "code",
      "metadata": {
        "id": "ZRPUB188JWET",
        "colab": {
          "base_uri": "https://localhost:8080/"
        },
        "outputId": "fc3b0d06-7de7-4a71-9c43-842429286c94"
      },
      "source": [
        "#pode dar o nome que quiser desde que não seja numeros nem palavras reservadas do python\n",
        "uno = Carro(litros=10) \n",
        "\n",
        "uno.gasolina()#acessando função gasolina\n",
        "uno.velocidade=120\n",
        "uno.acelera()\n",
        "uno.velocidade=99\n",
        "uno.acelera()\n",
        "uno.litros=uno.litros+32\n",
        "uno.acelera()\n"
      ],
      "execution_count": null,
      "outputs": [
        {
          "output_type": "stream",
          "text": [
            "Tem  10  de gasolina\n",
            "Velocidade:  120 \n",
            "Quantidade de litros de gasolina:  5\n",
            "Velocidade:  99 \n",
            "Quantidade de litros de gasolina:  3\n",
            "Velocidade:  99 \n",
            "Quantidade de litros de gasolina:  33\n"
          ],
          "name": "stdout"
        }
      ]
    },
    {
      "cell_type": "markdown",
      "metadata": {
        "id": "vUGb4Xi8brZu"
      },
      "source": [
        "<b> Herança </b>\n",
        "<br> As classes podem herdar comportamentos e estados de outra classe, seguindo o exemplo acima, poderiamos ter a Classe Automóvel e a classe carro herdar os estados e comportamentos acima, se tornando uma sub classe de Automóveis."
      ]
    },
    {
      "cell_type": "code",
      "metadata": {
        "id": "rZ1_nQ4kWgmS"
      },
      "source": [
        "class fiat_uno(Carro):\n",
        "  def __init__(self):  # o construtor da subclasse chama o construtor da superclasse\n",
        "                         # com parametros desejados\n",
        "    Carro.__init__(self,litros=9,velocidade = 50)\n",
        "    \n",
        "\n",
        "\n",
        "  def escada(self):\n",
        "    print(\"Nova velocidade \",self.velocidade*10,\" KM/h\")\n",
        "\n",
        "  "
      ],
      "execution_count": null,
      "outputs": []
    },
    {
      "cell_type": "code",
      "metadata": {
        "colab": {
          "base_uri": "https://localhost:8080/"
        },
        "id": "U2c8cK4lY81Q",
        "outputId": "ebe4ff4e-e4de-4bdf-8042-2333ef3e2b0a"
      },
      "source": [
        "tunado = fiat_uno()\n",
        "tunado.acelera()\n",
        "tunado.escada()"
      ],
      "execution_count": null,
      "outputs": [
        {
          "output_type": "stream",
          "text": [
            "Velocidade:  50 \n",
            "Quantidade de litros de gasolina:  7\n",
            "Nova velocidade  500  KM/h\n"
          ],
          "name": "stdout"
        }
      ]
    },
    {
      "cell_type": "code",
      "metadata": {
        "id": "Fl0ltvz4Om3_",
        "colab": {
          "base_uri": "https://localhost:8080/"
        },
        "outputId": "1fdff768-775a-4544-cf36-37293af663a2"
      },
      "source": [
        "tunado.litros=17\n",
        "tunado.acelera()"
      ],
      "execution_count": null,
      "outputs": [
        {
          "output_type": "stream",
          "text": [
            "Velocidade:  50 \n",
            "Quantidade de litros de gasolina:  15\n"
          ],
          "name": "stdout"
        }
      ]
    },
    {
      "cell_type": "code",
      "metadata": {
        "colab": {
          "base_uri": "https://localhost:8080/",
          "height": 166
        },
        "id": "OH_N400gjhNn",
        "outputId": "3ddfde84-b858-47eb-acdf-5a41612805e8"
      },
      "source": [
        "uno.escada()"
      ],
      "execution_count": null,
      "outputs": [
        {
          "output_type": "error",
          "ename": "AttributeError",
          "evalue": "ignored",
          "traceback": [
            "\u001b[0;31m---------------------------------------------------------------------------\u001b[0m",
            "\u001b[0;31mAttributeError\u001b[0m                            Traceback (most recent call last)",
            "\u001b[0;32m<ipython-input-62-638faa9436b0>\u001b[0m in \u001b[0;36m<module>\u001b[0;34m()\u001b[0m\n\u001b[0;32m----> 1\u001b[0;31m \u001b[0muno\u001b[0m\u001b[0;34m.\u001b[0m\u001b[0mescada\u001b[0m\u001b[0;34m(\u001b[0m\u001b[0;34m)\u001b[0m\u001b[0;34m\u001b[0m\u001b[0;34m\u001b[0m\u001b[0m\n\u001b[0m",
            "\u001b[0;31mAttributeError\u001b[0m: 'Carro' object has no attribute 'escada'"
          ]
        }
      ]
    },
    {
      "cell_type": "markdown",
      "metadata": {
        "id": "w3hmsQ7bgkBh"
      },
      "source": [
        "**Sobrecarga de operador** (Operator Overloading)\n",
        "Classes podem interceptar operadores especiais e sobrescrevê-los. Esses métodos são definidos por um duplo underscore antes e depois da escrita. Exemplos de operadores especiais são:\n",
        "\n",
        "- <font color='blue'>\\_\\_init\\_\\_</font> construtor do objeto\n",
        "- <font color='blue'>\\_\\_repr\\_\\_</font> método que gera uma representação da classe\n",
        "- <font color='blue'>\\_\\_add\\_\\_</font> método que define a operação de soma <font color='blue'>+</font>\n",
        "- <font color='blue'>\\_\\_lt\\_\\_</font>, <font color='blue'>\\_\\_gt\\_\\_</font>, para comparações X < Y, X > Y\n",
        "- e outras..."
      ]
    },
    {
      "cell_type": "code",
      "metadata": {
        "id": "D05dzWR7OqW1"
      },
      "source": [
        "class pessoa():\n",
        "    def __init__(self,nome = '', sobrenome = '', idade = 0):\n",
        "        self.nome = nome\n",
        "        self.sobrenome = sobrenome\n",
        "        self.idade = idade\n",
        "        \n",
        "    def __lt__(self,p):  # operador '<'\n",
        "        return(self.idade < p.idade)  # retorna True se a idade da instancia da classe for menor\n",
        "    \n",
        "    def __gt__(self,p):  # operador '>'\n",
        "        return(self.idade > p.idade)"
      ],
      "execution_count": null,
      "outputs": []
    },
    {
      "cell_type": "code",
      "metadata": {
        "id": "K9gcbgeWOzjM",
        "colab": {
          "base_uri": "https://localhost:8080/"
        },
        "outputId": "d7d5eaf9-d87d-4c92-9911-9b7a8dcfb9b1"
      },
      "source": [
        "p1 = pessoa(nome='Peter',sobrenome='Almeida',idade=50)    # instancia um objeto 'pessoa'\n",
        "p2 = pessoa(nome='Daniel',sobrenome='Soria',idade=52) # instancia outro objeto 'pessoa'\n",
        "\n",
        "if p1 < p2:\n",
        "    print(p1.nome, ' eh mais novo que ',p2.nome)\n",
        "else:\n",
        "    print(p1.nome, ' nao eh mais novo que ',p2.nome)\n",
        "    \n"
      ],
      "execution_count": null,
      "outputs": [
        {
          "output_type": "stream",
          "text": [
            "Peter  eh mais novo que  Daniel\n"
          ],
          "name": "stdout"
        }
      ]
    },
    {
      "cell_type": "markdown",
      "metadata": {
        "id": "ajPq87-yZ8yp"
      },
      "source": [
        "<br>**Indo além com classes**\n",
        "\n",
        "1.   [Inglês](https://www.tutorialspoint.com/python/python_classes_objects.htm) -> Tutorial com teoria e prática com mais exemplos.\n",
        "2.   [Português](https://panda.ime.usp.br/pensepy/static/pensepy/13-Classes/classesintro.html) -> Tutorial com teoria, ilustrações e prática com mais exemplos.\n",
        "\n"
      ]
    },
    {
      "cell_type": "markdown",
      "metadata": {
        "id": "OJ8l2R0zOjFb"
      },
      "source": [
        "<h2> Dicas </h2>"
      ]
    },
    {
      "cell_type": "markdown",
      "metadata": {
        "id": "fNkVMA5se0K5"
      },
      "source": [
        "\n",
        "\n",
        "> Você pode utilizar as classes para organizar as funções e dados juntos, na [documentação](https://docs.python.org/pt-br/3/tutorial/classes.html) você encontra uma descrição completa de como utilizar e como não utilizar. <br><br> Lembre-se que por em prática é uma etapa fundamental para o aprendizado, então sempre tente fazer todos os exercícios.\n"
      ]
    },
    {
      "cell_type": "markdown",
      "metadata": {
        "id": "6JNsXVpdPICs"
      },
      "source": [
        "<h1>Exercícios:<h1>"
      ]
    },
    {
      "cell_type": "markdown",
      "metadata": {
        "id": "RIh9DRYRPRYH"
      },
      "source": [
        "1. Recrie a classe Carro e adicione um novo atributo e um novo método (função).\n",
        "\n"
      ]
    },
    {
      "cell_type": "code",
      "metadata": {
        "id": "cN42M5YJPP4r"
      },
      "source": [
        ""
      ],
      "execution_count": null,
      "outputs": []
    },
    {
      "cell_type": "markdown",
      "metadata": {
        "id": "ooHbr2yfeHe-"
      },
      "source": [
        "2. Crie uma sub classe a partir da classe criada no exercício 1."
      ]
    },
    {
      "cell_type": "code",
      "metadata": {
        "id": "G5OwUn5JPG39"
      },
      "source": [
        ""
      ],
      "execution_count": null,
      "outputs": []
    },
    {
      "cell_type": "markdown",
      "metadata": {
        "id": "GLnWQ_toeaX3"
      },
      "source": [
        "3. Sobreescreva um dos operadores dentro de uma nova classe."
      ]
    },
    {
      "cell_type": "code",
      "metadata": {
        "id": "8wlFzVjleZmO"
      },
      "source": [
        ""
      ],
      "execution_count": null,
      "outputs": []
    },
    {
      "cell_type": "markdown",
      "metadata": {
        "id": "2xk8HAyve9z1"
      },
      "source": [
        "4. Crie uma classe chamada Calculadora com os atributos Digito 1 e Digito2, crie os métodos de adição e de subtração."
      ]
    },
    {
      "cell_type": "code",
      "metadata": {
        "id": "Np08VJ4QO0t6"
      },
      "source": [
        ""
      ],
      "execution_count": null,
      "outputs": []
    },
    {
      "cell_type": "markdown",
      "metadata": {
        "id": "2L2OhztWfGyy"
      },
      "source": [
        "5. Crie uma subclasse de Calculadora e adicione os métodos de divisão, multiplicação e exponencial."
      ]
    },
    {
      "cell_type": "code",
      "metadata": {
        "id": "3E5fPb7vfLzT"
      },
      "source": [
        ""
      ],
      "execution_count": null,
      "outputs": []
    }
  ]
}