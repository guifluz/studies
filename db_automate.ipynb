{
  "nbformat": 4,
  "nbformat_minor": 0,
  "metadata": {
    "colab": {
      "name": "db_automate.ipynb",
      "provenance": [],
      "collapsed_sections": [],
      "include_colab_link": true
    },
    "kernelspec": {
      "name": "python3",
      "display_name": "Python 3"
    },
    "language_info": {
      "name": "python"
    }
  },
  "cells": [
    {
      "cell_type": "markdown",
      "metadata": {
        "id": "view-in-github",
        "colab_type": "text"
      },
      "source": [
        "<a href=\"https://colab.research.google.com/github/guifluz/studies/blob/master/db_automate.ipynb\" target=\"_parent\"><img src=\"https://colab.research.google.com/assets/colab-badge.svg\" alt=\"Open In Colab\"/></a>"
      ]
    },
    {
      "cell_type": "markdown",
      "metadata": {
        "id": "y211HNz0EPAK"
      },
      "source": [
        "#**Código para extração e limpeza de base de dados do looker para automatização de rotinas.**"
      ]
    },
    {
      "cell_type": "markdown",
      "metadata": {
        "id": "Ewgxet7TCszX"
      },
      "source": [
        "####Importando dependências"
      ]
    },
    {
      "cell_type": "code",
      "source": [
        "from google.colab import drive\n",
        "drive.mount('/content/drive')"
      ],
      "metadata": {
        "colab": {
          "base_uri": "https://localhost:8080/"
        },
        "id": "ADKVrkAlywMe",
        "outputId": "bb3f4f3d-bdea-4305-ab36-a8d22c6f76ed"
      },
      "execution_count": null,
      "outputs": [
        {
          "output_type": "stream",
          "name": "stdout",
          "text": [
            "Mounted at /content/drive\n"
          ]
        }
      ]
    },
    {
      "cell_type": "code",
      "metadata": {
        "id": "cVs5_QtpDk-Z",
        "colab": {
          "base_uri": "https://localhost:8080/"
        },
        "outputId": "a86cd170-b5ad-4a55-cf3e-c880413e5d67"
      },
      "source": [
        "import pandas as pd\n",
        "!pip install --upgrade gspread"
      ],
      "execution_count": null,
      "outputs": [
        {
          "output_type": "stream",
          "name": "stdout",
          "text": [
            "Requirement already satisfied: gspread in /usr/local/lib/python3.7/dist-packages (3.0.1)\n",
            "Collecting gspread\n",
            "  Downloading gspread-5.1.1-py3-none-any.whl (31 kB)\n",
            "Requirement already satisfied: google-auth>=1.12.0 in /usr/local/lib/python3.7/dist-packages (from gspread) (1.35.0)\n",
            "Requirement already satisfied: google-auth-oauthlib>=0.4.1 in /usr/local/lib/python3.7/dist-packages (from gspread) (0.4.6)\n",
            "Requirement already satisfied: cachetools<5.0,>=2.0.0 in /usr/local/lib/python3.7/dist-packages (from google-auth>=1.12.0->gspread) (4.2.4)\n",
            "Requirement already satisfied: rsa<5,>=3.1.4 in /usr/local/lib/python3.7/dist-packages (from google-auth>=1.12.0->gspread) (4.8)\n",
            "Requirement already satisfied: setuptools>=40.3.0 in /usr/local/lib/python3.7/dist-packages (from google-auth>=1.12.0->gspread) (57.4.0)\n",
            "Requirement already satisfied: six>=1.9.0 in /usr/local/lib/python3.7/dist-packages (from google-auth>=1.12.0->gspread) (1.15.0)\n",
            "Requirement already satisfied: pyasn1-modules>=0.2.1 in /usr/local/lib/python3.7/dist-packages (from google-auth>=1.12.0->gspread) (0.2.8)\n",
            "Requirement already satisfied: requests-oauthlib>=0.7.0 in /usr/local/lib/python3.7/dist-packages (from google-auth-oauthlib>=0.4.1->gspread) (1.3.0)\n",
            "Requirement already satisfied: pyasn1<0.5.0,>=0.4.6 in /usr/local/lib/python3.7/dist-packages (from pyasn1-modules>=0.2.1->google-auth>=1.12.0->gspread) (0.4.8)\n",
            "Requirement already satisfied: requests>=2.0.0 in /usr/local/lib/python3.7/dist-packages (from requests-oauthlib>=0.7.0->google-auth-oauthlib>=0.4.1->gspread) (2.23.0)\n",
            "Requirement already satisfied: oauthlib>=3.0.0 in /usr/local/lib/python3.7/dist-packages (from requests-oauthlib>=0.7.0->google-auth-oauthlib>=0.4.1->gspread) (3.1.1)\n",
            "Requirement already satisfied: idna<3,>=2.5 in /usr/local/lib/python3.7/dist-packages (from requests>=2.0.0->requests-oauthlib>=0.7.0->google-auth-oauthlib>=0.4.1->gspread) (2.10)\n",
            "Requirement already satisfied: chardet<4,>=3.0.2 in /usr/local/lib/python3.7/dist-packages (from requests>=2.0.0->requests-oauthlib>=0.7.0->google-auth-oauthlib>=0.4.1->gspread) (3.0.4)\n",
            "Requirement already satisfied: urllib3!=1.25.0,!=1.25.1,<1.26,>=1.21.1 in /usr/local/lib/python3.7/dist-packages (from requests>=2.0.0->requests-oauthlib>=0.7.0->google-auth-oauthlib>=0.4.1->gspread) (1.24.3)\n",
            "Requirement already satisfied: certifi>=2017.4.17 in /usr/local/lib/python3.7/dist-packages (from requests>=2.0.0->requests-oauthlib>=0.7.0->google-auth-oauthlib>=0.4.1->gspread) (2021.10.8)\n",
            "Installing collected packages: gspread\n",
            "  Attempting uninstall: gspread\n",
            "    Found existing installation: gspread 3.0.1\n",
            "    Uninstalling gspread-3.0.1:\n",
            "      Successfully uninstalled gspread-3.0.1\n",
            "Successfully installed gspread-5.1.1\n"
          ]
        }
      ]
    },
    {
      "cell_type": "markdown",
      "metadata": {
        "id": "-aKQ4Eq3Cxku"
      },
      "source": [
        "####Autorizando o colab a utilizar o gspread"
      ]
    },
    {
      "cell_type": "code",
      "metadata": {
        "id": "LLJVMFuIbm5f"
      },
      "source": [
        "from google.colab import auth\n",
        "auth.authenticate_user()\n",
        "\n",
        "import gspread\n",
        "from oauth2client.client import GoogleCredentials\n",
        "\n",
        "gc = gspread.authorize(GoogleCredentials.get_application_default())"
      ],
      "execution_count": null,
      "outputs": []
    },
    {
      "cell_type": "markdown",
      "metadata": {
        "id": "D_Q8wwxEC-5O"
      },
      "source": [
        "####Importação das bases de dados\n"
      ]
    },
    {
      "cell_type": "markdown",
      "metadata": {
        "id": "R3lOuUPfIEtc"
      },
      "source": [
        "Listagem de todos os arquivos que existem na pasta de base de dados"
      ]
    },
    {
      "cell_type": "code",
      "metadata": {
        "id": "Wpi30pEwFqBW"
      },
      "source": [
        "from os import listdir\n",
        "\n",
        "files = listdir('/content/drive/MyDrive/1. Sales Planning/2. Relatórios Diários/00. Bases Automatizadas')"
      ],
      "execution_count": null,
      "outputs": []
    },
    {
      "cell_type": "code",
      "metadata": {
        "id": "EqrjyZF-oeTS"
      },
      "source": [
        "file_name = []\n",
        "\n",
        "for a in files:\n",
        "  if str(\".gsheet\") in str(a):\n",
        "    a = a.replace(\".gsheet\",\"\")\n",
        "    file_name.append(a)\n",
        "  else:\n",
        "    file_name.append(a)\n",
        "    continue"
      ],
      "execution_count": null,
      "outputs": []
    },
    {
      "cell_type": "code",
      "source": [
        "list(file_name)"
      ],
      "metadata": {
        "colab": {
          "base_uri": "https://localhost:8080/"
        },
        "id": "ZHVq9sdpbVEK",
        "outputId": "f23d68d2-47e3-444f-a2b2-2f49588783a9"
      },
      "execution_count": null,
      "outputs": [
        {
          "output_type": "execute_result",
          "data": {
            "text/plain": [
              "['db_leads_seller.csv',\n",
              " 'db_publicacaoes.csv',\n",
              " 'gestao_nomes_emails',\n",
              " 'gestao_normalizacao_bairros',\n",
              " 'gestao_time_ss',\n",
              " 'db_imovel_lva_lvr.csv',\n",
              " 'db_oportunidades.csv',\n",
              " 'db_vendas_faturamento.csv',\n",
              " 'db_bairros_lva.csv',\n",
              " 'db_bairros_lvr.csv',\n",
              " 'db_bairro_do_lsa.csv',\n",
              " 'db_imoveis_churn.csv',\n",
              " 'db_bairros_lsa.csv',\n",
              " 'db_publicacoes.csv',\n",
              " 'db_opps_perdidas.csv',\n",
              " 'db_visitas_totais_e_unicas.csv',\n",
              " 'db_bairro_do_imovel.csv',\n",
              " 'db_propostas.csv',\n",
              " 'db_tarefas_garagem.csv',\n",
              " 'db_imoveis_ativos_bairros.csv',\n",
              " 'db_bairros_imoveis.csv',\n",
              " 'db_opp_sem_tarefa.csv',\n",
              " 'db_registro_pcvs.csv']"
            ]
          },
          "metadata": {},
          "execution_count": 6
        }
      ]
    },
    {
      "cell_type": "code",
      "metadata": {
        "id": "7nY-K9Llo1qr"
      },
      "source": [
        "#type(file_name)"
      ],
      "execution_count": null,
      "outputs": []
    },
    {
      "cell_type": "code",
      "source": [
        "#len(file_name)"
      ],
      "metadata": {
        "id": "vGHh900MtJ5h"
      },
      "execution_count": null,
      "outputs": []
    },
    {
      "cell_type": "markdown",
      "metadata": {
        "id": "ebpxJHONCufS"
      },
      "source": [
        "Loop de criação de um dataframe para cada base de dados e armazenamento dos dataframes em uma lista de dataframes (df_colection)"
      ]
    },
    {
      "cell_type": "code",
      "metadata": {
        "id": "kLVw98pfHED2"
      },
      "source": [
        "df_colection = []\n",
        "\n",
        "count = 0\n",
        "\n",
        "for f in file_name:\n",
        "    spreadsheet = gc.open(f)\n",
        "    data_t = spreadsheet.sheet1\n",
        "    d_round = pd.DataFrame(data_t.get_all_records())\n",
        "    df_colection.append(d_round)\n",
        "    count = count + 1\n",
        "    if count == len(file_name):\n",
        "      break\n",
        "    else:\n",
        "      continue"
      ],
      "execution_count": null,
      "outputs": []
    },
    {
      "cell_type": "code",
      "source": [
        "print(data_t)"
      ],
      "metadata": {
        "colab": {
          "base_uri": "https://localhost:8080/"
        },
        "id": "MVFqXX1u2yXF",
        "outputId": "c861e73d-9f3b-4270-e0e9-0b71e1c0c6a9"
      },
      "execution_count": null,
      "outputs": [
        {
          "output_type": "stream",
          "name": "stdout",
          "text": [
            "<Worksheet 'Página1' id:0>\n"
          ]
        }
      ]
    },
    {
      "cell_type": "code",
      "metadata": {
        "id": "jYNiBlM1B96c"
      },
      "source": [
        "#len(df_colection)"
      ],
      "execution_count": null,
      "outputs": []
    },
    {
      "cell_type": "markdown",
      "source": [
        "Seleção do dataframes de interesse pelo nome"
      ],
      "metadata": {
        "id": "A0gvh8zZRkYv"
      }
    },
    {
      "cell_type": "code",
      "source": [
        "#databases = [\"db_bairros_lsa.csv\",\"db_bairros_lvr.csv\",\"db_bairros_lva.csv\",\"gestao_normalizacao_bairros\",\"gestao_nomes_emails\",\"gestao_time_ss\",\"db_oportunidades.csv\",\"db_imoveis_ativos_bairros.csv\"]\n",
        "\n",
        "df_lsa = pd.DataFrame(df_colection[file_name.index(\"db_bairros_lsa.csv\")])\n",
        "df_lva = pd.DataFrame(df_colection[file_name.index(\"db_bairros_lva.csv\")])\n",
        "df_lvr = pd.DataFrame(df_colection[file_name.index(\"db_bairros_lvr.csv\")])\n",
        "df_norm = pd.DataFrame(df_colection[file_name.index(\"gestao_normalizacao_bairros\")])\n",
        "df_email = pd.DataFrame(df_colection[file_name.index(\"gestao_nomes_emails\")])\n",
        "df_ss = pd.DataFrame(df_colection[file_name.index(\"gestao_time_ss\")])\n",
        "df_op = pd.DataFrame(df_colection[file_name.index(\"db_oportunidades.csv\")])\n",
        "df_imoveis = pd.DataFrame(df_colection[file_name.index(\"db_imoveis_ativos_bairros.csv\")])"
      ],
      "metadata": {
        "id": "T3kqOPrCjThI"
      },
      "execution_count": null,
      "outputs": []
    },
    {
      "cell_type": "code",
      "source": [
        "#df_lsa.info()"
      ],
      "metadata": {
        "id": "N3mZ3R4O_vwX"
      },
      "execution_count": null,
      "outputs": []
    },
    {
      "cell_type": "code",
      "source": [
        "#df_lva.info()"
      ],
      "metadata": {
        "id": "uG6YUOjDDERa"
      },
      "execution_count": null,
      "outputs": []
    },
    {
      "cell_type": "code",
      "source": [
        "df_lvr.info()"
      ],
      "metadata": {
        "colab": {
          "base_uri": "https://localhost:8080/"
        },
        "id": "a1GASsHGDFUd",
        "outputId": "8fbef4b1-0077-46aa-d435-2cee497839f6"
      },
      "execution_count": null,
      "outputs": [
        {
          "output_type": "stream",
          "name": "stdout",
          "text": [
            "<class 'pandas.core.frame.DataFrame'>\n",
            "RangeIndex: 4805 entries, 0 to 4804\n",
            "Data columns (total 8 columns):\n",
            " #   Column                                Non-Null Count  Dtype \n",
            "---  ------                                --------------  ----- \n",
            " 0                                         4805 non-null   int64 \n",
            " 1   LVR - Primeira Visita Realizada Date  4805 non-null   object\n",
            " 2   Cidade Da Imovel Buyer                4805 non-null   object\n",
            " 3   Bairro Da Imovel Buyer                4805 non-null   object\n",
            " 4   ID Da Imovel Buyer                    4805 non-null   object\n",
            " 5   ID No Site Da Imovel Buyer            4805 non-null   int64 \n",
            " 6   Oportunidade Proprietario             4805 non-null   object\n",
            " 7   Qtd LVRs                              4805 non-null   int64 \n",
            "dtypes: int64(3), object(5)\n",
            "memory usage: 300.4+ KB\n"
          ]
        }
      ]
    },
    {
      "cell_type": "code",
      "source": [
        "df_norm.info()"
      ],
      "metadata": {
        "colab": {
          "base_uri": "https://localhost:8080/"
        },
        "id": "xGi753kEDGd5",
        "outputId": "4de8102f-b8d4-4200-b476-b6982cb3f0ae"
      },
      "execution_count": null,
      "outputs": [
        {
          "output_type": "stream",
          "name": "stdout",
          "text": [
            "<class 'pandas.core.frame.DataFrame'>\n",
            "RangeIndex: 987 entries, 0 to 986\n",
            "Data columns (total 3 columns):\n",
            " #   Column                       Non-Null Count  Dtype \n",
            "---  ------                       --------------  ----- \n",
            " 0   Bairro Da Imovel Buyer       987 non-null    object\n",
            " 1   Normalização Nome de Bairro  987 non-null    object\n",
            " 2   Regional                     987 non-null    object\n",
            "dtypes: object(3)\n",
            "memory usage: 23.3+ KB\n"
          ]
        }
      ]
    },
    {
      "cell_type": "code",
      "source": [
        "df_email.info()"
      ],
      "metadata": {
        "colab": {
          "base_uri": "https://localhost:8080/"
        },
        "id": "G7yJFbKMDIX0",
        "outputId": "928759a4-57ce-4574-c38a-b8f6fb0c3832"
      },
      "execution_count": null,
      "outputs": [
        {
          "output_type": "stream",
          "name": "stdout",
          "text": [
            "<class 'pandas.core.frame.DataFrame'>\n",
            "RangeIndex: 323 entries, 0 to 322\n",
            "Data columns (total 2 columns):\n",
            " #   Column  Non-Null Count  Dtype \n",
            "---  ------  --------------  ----- \n",
            " 0   Nome    323 non-null    object\n",
            " 1   Email   323 non-null    object\n",
            "dtypes: object(2)\n",
            "memory usage: 5.2+ KB\n"
          ]
        }
      ]
    },
    {
      "cell_type": "code",
      "source": [
        "df_ss.info()"
      ],
      "metadata": {
        "colab": {
          "base_uri": "https://localhost:8080/"
        },
        "id": "V7ei5E_3DJ43",
        "outputId": "8613025c-a20e-4620-daca-6bedf7874605"
      },
      "execution_count": null,
      "outputs": [
        {
          "output_type": "stream",
          "name": "stdout",
          "text": [
            "<class 'pandas.core.frame.DataFrame'>\n",
            "RangeIndex: 1767 entries, 0 to 1766\n",
            "Data columns (total 7 columns):\n",
            " #   Column                    Non-Null Count  Dtype \n",
            "---  ------                    --------------  ----- \n",
            " 0   Ref Month                 1767 non-null   object\n",
            " 1   AnoMês                    1767 non-null   int64 \n",
            " 2   Regional                  1767 non-null   object\n",
            " 3   SS                        1767 non-null   object\n",
            " 4   Email                     1767 non-null   object\n",
            " 5   Nível                     1767 non-null   object\n",
            " 6   Data de Admissão como SS  1767 non-null   object\n",
            "dtypes: int64(1), object(6)\n",
            "memory usage: 96.8+ KB\n"
          ]
        }
      ]
    },
    {
      "cell_type": "code",
      "source": [
        "df_op.info()"
      ],
      "metadata": {
        "colab": {
          "base_uri": "https://localhost:8080/"
        },
        "id": "7K4aq76ADK01",
        "outputId": "754fafb6-168c-4af8-fce6-9a60b225f794"
      },
      "execution_count": null,
      "outputs": [
        {
          "output_type": "stream",
          "name": "stdout",
          "text": [
            "<class 'pandas.core.frame.DataFrame'>\n",
            "RangeIndex: 8633 entries, 0 to 8632\n",
            "Data columns (total 16 columns):\n",
            " #   Column                                       Non-Null Count  Dtype \n",
            "---  ------                                       --------------  ----- \n",
            " 0   Oportunidade Proprietario                    8633 non-null   object\n",
            " 1   Nome Do Lead                                 8633 non-null   object\n",
            " 2   Origem                                       8633 non-null   object\n",
            " 3   Subfluxo Lead                                8633 non-null   object\n",
            " 4   Criacao Lead Date                            8633 non-null   object\n",
            " 5   ID Da Oportunidade                           8633 non-null   object\n",
            " 6   Criacao Oportunidade Date                    8633 non-null   object\n",
            " 7   Motivo Perda Da Oportunidade                 8633 non-null   object\n",
            " 8   Oportunidade Proprietario Regional           8633 non-null   object\n",
            " 9   LSA - Primeira Solicitacao Agendamento Date  8633 non-null   object\n",
            " 10  LVA - Primeira Criacao Agendamento Date      8633 non-null   object\n",
            " 11  LVR - Primeira Visita Realizada Date         8633 non-null   object\n",
            " 12  Primeira Proposta Date                       8633 non-null   object\n",
            " 13  Oportunidade Fase Pcv Assinada Date          8633 non-null   object\n",
            " 14  Oportunidade Fechada Date                    8633 non-null   object\n",
            " 15  ID Do Lead                                   8633 non-null   object\n",
            "dtypes: object(16)\n",
            "memory usage: 1.1+ MB\n"
          ]
        }
      ]
    },
    {
      "cell_type": "code",
      "source": [
        "df_imoveis.info()"
      ],
      "metadata": {
        "colab": {
          "base_uri": "https://localhost:8080/"
        },
        "id": "_rcMJawUDNXn",
        "outputId": "f67dc05f-cb64-4ef5-ccf9-e1421038de07"
      },
      "execution_count": null,
      "outputs": [
        {
          "output_type": "stream",
          "name": "stdout",
          "text": [
            "<class 'pandas.core.frame.DataFrame'>\n",
            "RangeIndex: 24484 entries, 0 to 24483\n",
            "Data columns (total 4 columns):\n",
            " #   Column                 Non-Null Count  Dtype \n",
            "---  ------                 --------------  ----- \n",
            " 0   Status Historico Date  24484 non-null  object\n",
            " 1   Cidade Do Imovel       24484 non-null  object\n",
            " 2   Bairro Do Imovel       24484 non-null  object\n",
            " 3   Qtd Imoveis            24484 non-null  int64 \n",
            "dtypes: int64(1), object(3)\n",
            "memory usage: 765.2+ KB\n"
          ]
        }
      ]
    },
    {
      "cell_type": "code",
      "source": [
        "#list(df_imoveis.columns)"
      ],
      "metadata": {
        "id": "8x1uGACPm6Z9"
      },
      "execution_count": null,
      "outputs": []
    },
    {
      "cell_type": "code",
      "source": [
        "#list(df_ss.columns)"
      ],
      "metadata": {
        "id": "j1VCNAUCmzR-"
      },
      "execution_count": null,
      "outputs": []
    },
    {
      "cell_type": "code",
      "source": [
        "#list(df_email.columns)"
      ],
      "metadata": {
        "id": "ht3fwdwmmxRo"
      },
      "execution_count": null,
      "outputs": []
    },
    {
      "cell_type": "code",
      "source": [
        "#list(df_lva.columns)"
      ],
      "metadata": {
        "id": "JuzN5NTEmtR1"
      },
      "execution_count": null,
      "outputs": []
    },
    {
      "cell_type": "code",
      "source": [
        "#list(df_lsa.columns)"
      ],
      "metadata": {
        "id": "fXTkdamrmm-0"
      },
      "execution_count": null,
      "outputs": []
    },
    {
      "cell_type": "code",
      "source": [
        "#list(df_lvr.columns)"
      ],
      "metadata": {
        "id": "ktYVu7htmuay"
      },
      "execution_count": null,
      "outputs": []
    },
    {
      "cell_type": "code",
      "source": [
        "#list(df_norm.columns)"
      ],
      "metadata": {
        "id": "jKQ4jXkTmvlD"
      },
      "execution_count": null,
      "outputs": []
    },
    {
      "cell_type": "code",
      "source": [
        "#list(df_op.columns)"
      ],
      "metadata": {
        "id": "GSAVUja2m5aW"
      },
      "execution_count": null,
      "outputs": []
    },
    {
      "cell_type": "markdown",
      "source": [
        "Renomear colunas de interesse e remover espaços"
      ],
      "metadata": {
        "id": "9iK7bGmHoIs5"
      }
    },
    {
      "cell_type": "code",
      "source": [
        "df_lva = df_lva.rename(columns={'LVA - Primeira Criacao Agendamento Date': 'data', 'Cidade Da Imovel Buyer': 'cidade', 'Bairro Da Imovel Buyer': 'bairro', 'Oportunidade Proprietario':'SS', 'Qtd LVAs':'LVA'})\n",
        "\n",
        "df_lvr = df_lvr.rename(columns={'LVR - Primeira Visita Realizada Date': 'data', 'Cidade Da Imovel Buyer': 'cidade', 'Bairro Da Imovel Buyer': 'bairro', 'Oportunidade Proprietario':'SS', 'Qtd LVRs':'LVR'})\n",
        "\n",
        "df_lsa = df_lsa.rename(columns={'LSA - Primeira Solicitacao Agendamento Date': 'data', 'Cidade Da Imovel Buyer': 'cidade', 'Bairro Da Imovel Buyer': 'bairro', 'Oportunidade Proprietario':'SS', 'Qtd LSAs':'LSA'})\n",
        "\n",
        "df_imoveis = df_imoveis.rename(columns={'Status Historico Date': 'data', 'Bairro Do Imovel': 'bairro','Qtd Imoveis': 'Qtd_imoveis','Cidade Do Imovel':'cidade'})\n",
        "\n",
        "df_norm = df_norm.rename(columns={'Bairro Da Imovel Buyer':'Bairro_buyer','Normalização Nome de Bairro':'norm_bairro'})\n",
        "\n",
        "df_ss = df_ss.rename(columns={'Ref Month':'Month','Data de Admissão como SS':'Data_admissao'})\n",
        "\n",
        "df_op = df_op.rename(columns={'Oportunidade Proprietario':'OP_proprietario','ID Da Oportunidade':'ID_OP','Criacao Oportunidade Date':'Date_OP','LSA - Primeira Solicitacao Agendamento Date':'Date_LSA_OP','LVA - Primeira Criacao Agendamento Date':'Date_LVA_OP','LVR - Primeira Visita Realizada Date':'Date_LVR_OP','Oportunidade Fase Pcv Assinada Date':'Date_PCV_OP','Oportunidade Fechada Date':'Date_OP_Fechada'})"
      ],
      "metadata": {
        "id": "y8quI011e5TV"
      },
      "execution_count": null,
      "outputs": []
    },
    {
      "cell_type": "code",
      "source": [
        "#list(df_op.columns)"
      ],
      "metadata": {
        "id": "qTXEaK6YqVMN"
      },
      "execution_count": null,
      "outputs": []
    },
    {
      "cell_type": "code",
      "source": [
        "#df_lva.head(2)"
      ],
      "metadata": {
        "id": "MWvK5TFif8aG"
      },
      "execution_count": null,
      "outputs": []
    },
    {
      "cell_type": "code",
      "source": [
        "#df_lvr.head(2)"
      ],
      "metadata": {
        "id": "rsiynJAxf-q3"
      },
      "execution_count": null,
      "outputs": []
    },
    {
      "cell_type": "code",
      "source": [
        "#df_lsa.head(2)"
      ],
      "metadata": {
        "id": "DUIO3K7jgAlx"
      },
      "execution_count": null,
      "outputs": []
    },
    {
      "cell_type": "code",
      "source": [
        "#df_imoveis.head(2)"
      ],
      "metadata": {
        "id": "6Xb3bP8vo6DE"
      },
      "execution_count": null,
      "outputs": []
    },
    {
      "cell_type": "code",
      "source": [
        "#df_norm.head(2)"
      ],
      "metadata": {
        "id": "YUGjRK5no-GI"
      },
      "execution_count": null,
      "outputs": []
    },
    {
      "cell_type": "code",
      "source": [
        "#df_ss.head(2)"
      ],
      "metadata": {
        "id": "CtuO_TaTpAUv"
      },
      "execution_count": null,
      "outputs": []
    },
    {
      "cell_type": "markdown",
      "source": [
        "Normalização e filtragem dos dataframes"
      ],
      "metadata": {
        "id": "16fI6yDaYvcS"
      }
    },
    {
      "cell_type": "code",
      "source": [
        "df1 = df_lva[['data', 'cidade', 'bairro','LVA']]\n",
        "df2 = df_lvr[['data', 'cidade', 'bairro','LVR']]\n",
        "df3 = df_lsa[['data', 'cidade', 'bairro','LSA']]\n",
        "df4 = df_imoveis[['data','bairro','cidade','Qtd_imoveis']]\n",
        "dfn = df_norm\n",
        "df5 = df_ss[['Month','AnoMês','Regional','SS','Email','Nível','Data_admissao']]\n",
        "df6 = df_op[['OP_proprietario','ID_OP','ID_OP','Date_OP','Date_LSA_OP','Date_LVA_OP','Date_LVR_OP','Date_PCV_OP','Date_OP_Fechada']]"
      ],
      "metadata": {
        "id": "MZ3el645kjx7"
      },
      "execution_count": null,
      "outputs": []
    },
    {
      "cell_type": "markdown",
      "metadata": {
        "id": "euYuvW7FDBpz"
      },
      "source": [
        "### Junção das bases de dados de bairros por SQL\n",
        "\n",
        "Geração do database filtrado de bairros por lsa, lvr e lsa"
      ]
    },
    {
      "cell_type": "code",
      "source": [
        "!pip install pandasql\n",
        "\n",
        "import pandasql as ps\n",
        "from pandasql import sqldf"
      ],
      "metadata": {
        "colab": {
          "base_uri": "https://localhost:8080/"
        },
        "id": "uxSSg0lIUyuc",
        "outputId": "3f0a2121-c93c-4907-d1bf-b1e55f5998c6"
      },
      "execution_count": null,
      "outputs": [
        {
          "output_type": "stream",
          "name": "stdout",
          "text": [
            "Collecting pandasql\n",
            "  Downloading pandasql-0.7.3.tar.gz (26 kB)\n",
            "Requirement already satisfied: numpy in /usr/local/lib/python3.7/dist-packages (from pandasql) (1.19.5)\n",
            "Requirement already satisfied: pandas in /usr/local/lib/python3.7/dist-packages (from pandasql) (1.1.5)\n",
            "Requirement already satisfied: sqlalchemy in /usr/local/lib/python3.7/dist-packages (from pandasql) (1.4.27)\n",
            "Requirement already satisfied: pytz>=2017.2 in /usr/local/lib/python3.7/dist-packages (from pandas->pandasql) (2018.9)\n",
            "Requirement already satisfied: python-dateutil>=2.7.3 in /usr/local/lib/python3.7/dist-packages (from pandas->pandasql) (2.8.2)\n",
            "Requirement already satisfied: six>=1.5 in /usr/local/lib/python3.7/dist-packages (from python-dateutil>=2.7.3->pandas->pandasql) (1.15.0)\n",
            "Requirement already satisfied: importlib-metadata in /usr/local/lib/python3.7/dist-packages (from sqlalchemy->pandasql) (4.8.2)\n",
            "Requirement already satisfied: greenlet!=0.4.17 in /usr/local/lib/python3.7/dist-packages (from sqlalchemy->pandasql) (1.1.2)\n",
            "Requirement already satisfied: zipp>=0.5 in /usr/local/lib/python3.7/dist-packages (from importlib-metadata->sqlalchemy->pandasql) (3.6.0)\n",
            "Requirement already satisfied: typing-extensions>=3.6.4 in /usr/local/lib/python3.7/dist-packages (from importlib-metadata->sqlalchemy->pandasql) (3.10.0.2)\n",
            "Building wheels for collected packages: pandasql\n",
            "  Building wheel for pandasql (setup.py) ... \u001b[?25l\u001b[?25hdone\n",
            "  Created wheel for pandasql: filename=pandasql-0.7.3-py3-none-any.whl size=26781 sha256=5c6f8937d225377ca5f0d1915b1a08f7fd870c6f968ef548c1a5a6bdc374db1e\n",
            "  Stored in directory: /root/.cache/pip/wheels/5c/4b/ec/41f4e116c8053c3654e2c2a47c62b4fca34cc67ef7b55deb7f\n",
            "Successfully built pandasql\n",
            "Installing collected packages: pandasql\n",
            "Successfully installed pandasql-0.7.3\n"
          ]
        }
      ]
    },
    {
      "cell_type": "markdown",
      "source": [
        "#### Testes"
      ],
      "metadata": {
        "id": "v0peXaEj0KwZ"
      }
    },
    {
      "cell_type": "code",
      "source": [
        "### aqui testei a primeira parte da query de normalização dos bairros e soma de quantidade de imoveis por bairro e cidade\n",
        "#\n",
        "#teste = \"\"\"\n",
        "#WITH norm_bairros as (\n",
        "#SELECT\n",
        "#    Bairro_buyer\n",
        "#    ,norm_bairro\n",
        "#    ,Regional as regional\n",
        "#FROM dfn\n",
        "#),\n",
        "#base_imoveis as (\n",
        "#SELECT\n",
        "#    data\n",
        "#    ,bairro\n",
        "#    ,cidade\n",
        "#    ,sum(Qtd_imoveis) as imoveis\n",
        "#FROM df4 group by bairro, cidade\n",
        "#), \n",
        "#db_imoveis as (\n",
        "#SELECT\n",
        "#    data as Data\n",
        "#    ,cidade as Cidade\n",
        "#    ,Bairro_buyer\n",
        "#    ,norm_bairro as Bairro\n",
        "#    ,regional\n",
        "#    ,sum(imoveis) as Qtd_imoveis\n",
        "#FROM\n",
        "#    norm_bairros as c\n",
        "#LEFT JOIN\n",
        "#    base_imoveis c2 ON c.Bairro_buyer = c2.bairro\n",
        "#GROUP BY\n",
        "#    Data, Bairro, Cidade, regional\n",
        "#)\n",
        "#\n",
        "#SELECT Data, Cidade, Bairro, regional, Qtd_imoveis from db_imoveis GROUP BY Data, Cidade, Bairro\n",
        "#\"\"\"\n",
        "\n",
        "#df_teste3 = ps.sqldf(teste,locals())\n",
        "\n",
        "#df_teste3"
      ],
      "metadata": {
        "id": "IhS8ba-xNu_5"
      },
      "execution_count": null,
      "outputs": []
    },
    {
      "cell_type": "code",
      "source": [
        "#df1.head(2)"
      ],
      "metadata": {
        "id": "aOmq55BRGeYd"
      },
      "execution_count": null,
      "outputs": []
    },
    {
      "cell_type": "code",
      "source": [
        "#df2.head(2)"
      ],
      "metadata": {
        "id": "V1Ye78wHGl9N"
      },
      "execution_count": null,
      "outputs": []
    },
    {
      "cell_type": "code",
      "source": [
        "#df3.head(2)"
      ],
      "metadata": {
        "id": "-aAb8ja5GnvI"
      },
      "execution_count": null,
      "outputs": []
    },
    {
      "cell_type": "markdown",
      "source": [
        "#### Query"
      ],
      "metadata": {
        "id": "dElsSf5H0PSQ"
      }
    },
    {
      "cell_type": "code",
      "source": [
        "query = \"\"\" \n",
        "WITH norm_bairros as (\n",
        "SELECT\n",
        "    Bairro_buyer\n",
        "    ,norm_bairro\n",
        "    ,Regional as regional\n",
        "FROM dfn\n",
        "),\n",
        "base_imoveis as (\n",
        "SELECT\n",
        "    data\n",
        "    ,bairro\n",
        "    ,cidade\n",
        "    ,sum(Qtd_imoveis) as imoveis\n",
        "FROM df4 group by data, bairro, cidade\n",
        "),\n",
        "db_imoveis as (\n",
        "SELECT\n",
        "    data as Data\n",
        "    ,cidade as Cidade\n",
        "    ,norm_bairro as Bairro\n",
        "    ,Bairro_buyer\n",
        "    ,regional\n",
        "    ,sum(imoveis) as Qtd_imoveis\n",
        "FROM\n",
        "    norm_bairros as c\n",
        "LEFT JOIN\n",
        "    base_imoveis c2 ON c.Bairro_buyer = c2.bairro\n",
        "GROUP BY\n",
        "    Data, Bairro, Cidade, regional\n",
        "),\n",
        "db_lsa as (\n",
        "SELECT\n",
        "    data as data_lsa\n",
        "    ,cidade as cidade_lsa\n",
        "    ,bairro as bairro_lsa\n",
        "    ,sum(LSA) as Soma_LSA\n",
        "FROM df3 group by data_lsa, bairro_lsa, cidade_lsa\n",
        "),\n",
        "db_lva as (\n",
        "SELECT\n",
        "    data as data_lva\n",
        "    ,cidade as cidade_lva\n",
        "    ,bairro as bairro_lva\n",
        "    ,sum(LVA) as Soma_LVA\n",
        "FROM df1 group by data_lva, bairro_lva, cidade_lva\n",
        "),\n",
        "db_lvr as (\n",
        "SELECT\n",
        "    data as data_lvr\n",
        "    ,cidade as cidade_lvr\n",
        "    ,bairro as bairro_lvr\n",
        "    ,sum(LVR) as Soma_LVR\n",
        "FROM df2 group by data_lvr, bairro_lvr, cidade_lvr\n",
        "),\n",
        "db_final as (\n",
        "SELECT\n",
        "    db_lsa.bairro_lsa as Bairro_lsa\n",
        "    ,db_lsa.Soma_LSA as SOMA_LSA\n",
        "    ,db_lva.bairro_lva as Bairro_lva\n",
        "    ,db_lva.Soma_LVA as SOMA_LVA\n",
        "    ,db_lvr.bairro_lvr as Bairro_lvr\n",
        "    ,db_lvr.Soma_LVR as SOMA_LVR\n",
        "    ,db_imoveis.data as DATA\n",
        "    ,db_imoveis.cidade as CIDADE\n",
        "    ,db_imoveis.Bairro_buyer\n",
        "    ,db_imoveis.regional as REGIONAL\n",
        "    ,db_imoveis.bairro as BAIRRO\n",
        "    ,db_imoveis.Qtd_imoveis as QTD_IMOVEIS\n",
        "    from db_imoveis\n",
        "LEFT JOIN\n",
        "    db_lsa ON db_imoveis.Bairro_buyer = Bairro_lsa\n",
        "LEFT JOIN\n",
        "    db_lva ON db_imoveis.Bairro_buyer = Bairro_lva\n",
        "LEFT JOIN\n",
        "    db_lvr ON db_imoveis.Bairro_buyer = Bairro_lvr\n",
        "  \n",
        "GROUP BY\n",
        "    DATA, BAIRRO, CIDADE, REGIONAL\n",
        ")\n",
        "\n",
        "SELECT DATA, CIDADE, BAIRRO, REGIONAL, QTD_IMOVEIS, SOMA_LSA, SOMA_LVA, SOMA_LVR from db_final GROUP BY 1,2,3,4\n",
        "\"\"\"\n",
        "\n",
        "df_bairros = ps.sqldf(query, locals())"
      ],
      "metadata": {
        "id": "JwmN-a8yAx79",
        "colab": {
          "base_uri": "https://localhost:8080/",
          "height": 1000
        },
        "outputId": "5c050fb8-da62-4f37-94ef-073d760e3b63"
      },
      "execution_count": null,
      "outputs": [
        {
          "output_type": "error",
          "ename": "PandaSQLException",
          "evalue": "ignored",
          "traceback": [
            "\u001b[0;31m---------------------------------------------------------------------------\u001b[0m",
            "\u001b[0;31mOperationalError\u001b[0m                          Traceback (most recent call last)",
            "\u001b[0;32m/usr/local/lib/python3.7/dist-packages/sqlalchemy/engine/base.py\u001b[0m in \u001b[0;36m_execute_context\u001b[0;34m(self, dialect, constructor, statement, parameters, execution_options, *args, **kw)\u001b[0m\n\u001b[1;32m   1792\u001b[0m                     self.dialect.do_execute_no_params(\n\u001b[0;32m-> 1793\u001b[0;31m                         \u001b[0mcursor\u001b[0m\u001b[0;34m,\u001b[0m \u001b[0mstatement\u001b[0m\u001b[0;34m,\u001b[0m \u001b[0mcontext\u001b[0m\u001b[0;34m\u001b[0m\u001b[0;34m\u001b[0m\u001b[0m\n\u001b[0m\u001b[1;32m   1794\u001b[0m                     )\n",
            "\u001b[0;32m/usr/local/lib/python3.7/dist-packages/sqlalchemy/engine/default.py\u001b[0m in \u001b[0;36mdo_execute_no_params\u001b[0;34m(self, cursor, statement, context)\u001b[0m\n\u001b[1;32m    721\u001b[0m     \u001b[0;32mdef\u001b[0m \u001b[0mdo_execute_no_params\u001b[0m\u001b[0;34m(\u001b[0m\u001b[0mself\u001b[0m\u001b[0;34m,\u001b[0m \u001b[0mcursor\u001b[0m\u001b[0;34m,\u001b[0m \u001b[0mstatement\u001b[0m\u001b[0;34m,\u001b[0m \u001b[0mcontext\u001b[0m\u001b[0;34m=\u001b[0m\u001b[0;32mNone\u001b[0m\u001b[0;34m)\u001b[0m\u001b[0;34m:\u001b[0m\u001b[0;34m\u001b[0m\u001b[0;34m\u001b[0m\u001b[0m\n\u001b[0;32m--> 722\u001b[0;31m         \u001b[0mcursor\u001b[0m\u001b[0;34m.\u001b[0m\u001b[0mexecute\u001b[0m\u001b[0;34m(\u001b[0m\u001b[0mstatement\u001b[0m\u001b[0;34m)\u001b[0m\u001b[0;34m\u001b[0m\u001b[0;34m\u001b[0m\u001b[0m\n\u001b[0m\u001b[1;32m    723\u001b[0m \u001b[0;34m\u001b[0m\u001b[0m\n",
            "\u001b[0;31mOperationalError\u001b[0m: database or disk is full",
            "\nThe above exception was the direct cause of the following exception:\n",
            "\u001b[0;31mOperationalError\u001b[0m                          Traceback (most recent call last)",
            "\u001b[0;32m/usr/local/lib/python3.7/dist-packages/pandasql/sqldf.py\u001b[0m in \u001b[0;36m__call__\u001b[0;34m(self, query, env)\u001b[0m\n\u001b[1;32m     60\u001b[0m             \u001b[0;32mtry\u001b[0m\u001b[0;34m:\u001b[0m\u001b[0;34m\u001b[0m\u001b[0;34m\u001b[0m\u001b[0m\n\u001b[0;32m---> 61\u001b[0;31m                 \u001b[0mresult\u001b[0m \u001b[0;34m=\u001b[0m \u001b[0mread_sql\u001b[0m\u001b[0;34m(\u001b[0m\u001b[0mquery\u001b[0m\u001b[0;34m,\u001b[0m \u001b[0mconn\u001b[0m\u001b[0;34m)\u001b[0m\u001b[0;34m\u001b[0m\u001b[0;34m\u001b[0m\u001b[0m\n\u001b[0m\u001b[1;32m     62\u001b[0m             \u001b[0;32mexcept\u001b[0m \u001b[0mDatabaseError\u001b[0m \u001b[0;32mas\u001b[0m \u001b[0mex\u001b[0m\u001b[0;34m:\u001b[0m\u001b[0;34m\u001b[0m\u001b[0;34m\u001b[0m\u001b[0m\n",
            "\u001b[0;32m/usr/local/lib/python3.7/dist-packages/pandas/io/sql.py\u001b[0m in \u001b[0;36mread_sql\u001b[0;34m(sql, con, index_col, coerce_float, params, parse_dates, columns, chunksize)\u001b[0m\n\u001b[1;32m    514\u001b[0m             \u001b[0mparse_dates\u001b[0m\u001b[0;34m=\u001b[0m\u001b[0mparse_dates\u001b[0m\u001b[0;34m,\u001b[0m\u001b[0;34m\u001b[0m\u001b[0;34m\u001b[0m\u001b[0m\n\u001b[0;32m--> 515\u001b[0;31m             \u001b[0mchunksize\u001b[0m\u001b[0;34m=\u001b[0m\u001b[0mchunksize\u001b[0m\u001b[0;34m,\u001b[0m\u001b[0;34m\u001b[0m\u001b[0;34m\u001b[0m\u001b[0m\n\u001b[0m\u001b[1;32m    516\u001b[0m         )\n",
            "\u001b[0;32m/usr/local/lib/python3.7/dist-packages/pandas/io/sql.py\u001b[0m in \u001b[0;36mread_query\u001b[0;34m(self, sql, index_col, coerce_float, parse_dates, params, chunksize)\u001b[0m\n\u001b[1;32m   1294\u001b[0m \u001b[0;34m\u001b[0m\u001b[0m\n\u001b[0;32m-> 1295\u001b[0;31m         \u001b[0mresult\u001b[0m \u001b[0;34m=\u001b[0m \u001b[0mself\u001b[0m\u001b[0;34m.\u001b[0m\u001b[0mexecute\u001b[0m\u001b[0;34m(\u001b[0m\u001b[0;34m*\u001b[0m\u001b[0margs\u001b[0m\u001b[0;34m)\u001b[0m\u001b[0;34m\u001b[0m\u001b[0;34m\u001b[0m\u001b[0m\n\u001b[0m\u001b[1;32m   1296\u001b[0m         \u001b[0mcolumns\u001b[0m \u001b[0;34m=\u001b[0m \u001b[0mresult\u001b[0m\u001b[0;34m.\u001b[0m\u001b[0mkeys\u001b[0m\u001b[0;34m(\u001b[0m\u001b[0;34m)\u001b[0m\u001b[0;34m\u001b[0m\u001b[0;34m\u001b[0m\u001b[0m\n",
            "\u001b[0;32m/usr/local/lib/python3.7/dist-packages/pandas/io/sql.py\u001b[0m in \u001b[0;36mexecute\u001b[0;34m(self, *args, **kwargs)\u001b[0m\n\u001b[1;32m   1161\u001b[0m         return self.connectable.execution_options(no_parameters=True).execute(\n\u001b[0;32m-> 1162\u001b[0;31m             \u001b[0;34m*\u001b[0m\u001b[0margs\u001b[0m\u001b[0;34m,\u001b[0m \u001b[0;34m**\u001b[0m\u001b[0mkwargs\u001b[0m\u001b[0;34m\u001b[0m\u001b[0;34m\u001b[0m\u001b[0m\n\u001b[0m\u001b[1;32m   1163\u001b[0m         )\n",
            "\u001b[0;32m/usr/local/lib/python3.7/dist-packages/sqlalchemy/engine/base.py\u001b[0m in \u001b[0;36mexecute\u001b[0;34m(self, statement, *multiparams, **params)\u001b[0m\n\u001b[1;32m   1278\u001b[0m                 \u001b[0m_EMPTY_EXECUTION_OPTS\u001b[0m\u001b[0;34m,\u001b[0m\u001b[0;34m\u001b[0m\u001b[0;34m\u001b[0m\u001b[0m\n\u001b[0;32m-> 1279\u001b[0;31m                 \u001b[0mfuture\u001b[0m\u001b[0;34m=\u001b[0m\u001b[0;32mFalse\u001b[0m\u001b[0;34m,\u001b[0m\u001b[0;34m\u001b[0m\u001b[0;34m\u001b[0m\u001b[0m\n\u001b[0m\u001b[1;32m   1280\u001b[0m             )\n",
            "\u001b[0;32m/usr/local/lib/python3.7/dist-packages/sqlalchemy/engine/base.py\u001b[0m in \u001b[0;36m_exec_driver_sql\u001b[0;34m(self, statement, multiparams, params, execution_options, future)\u001b[0m\n\u001b[1;32m   1584\u001b[0m             \u001b[0mstatement\u001b[0m\u001b[0;34m,\u001b[0m\u001b[0;34m\u001b[0m\u001b[0;34m\u001b[0m\u001b[0m\n\u001b[0;32m-> 1585\u001b[0;31m             \u001b[0mdistilled_parameters\u001b[0m\u001b[0;34m,\u001b[0m\u001b[0;34m\u001b[0m\u001b[0;34m\u001b[0m\u001b[0m\n\u001b[0m\u001b[1;32m   1586\u001b[0m         )\n",
            "\u001b[0;32m/usr/local/lib/python3.7/dist-packages/sqlalchemy/engine/base.py\u001b[0m in \u001b[0;36m_execute_context\u001b[0;34m(self, dialect, constructor, statement, parameters, execution_options, *args, **kw)\u001b[0m\n\u001b[1;32m   1845\u001b[0m             self._handle_dbapi_exception(\n\u001b[0;32m-> 1846\u001b[0;31m                 \u001b[0me\u001b[0m\u001b[0;34m,\u001b[0m \u001b[0mstatement\u001b[0m\u001b[0;34m,\u001b[0m \u001b[0mparameters\u001b[0m\u001b[0;34m,\u001b[0m \u001b[0mcursor\u001b[0m\u001b[0;34m,\u001b[0m \u001b[0mcontext\u001b[0m\u001b[0;34m\u001b[0m\u001b[0;34m\u001b[0m\u001b[0m\n\u001b[0m\u001b[1;32m   1847\u001b[0m             )\n",
            "\u001b[0;32m/usr/local/lib/python3.7/dist-packages/sqlalchemy/engine/base.py\u001b[0m in \u001b[0;36m_handle_dbapi_exception\u001b[0;34m(self, e, statement, parameters, cursor, context)\u001b[0m\n\u001b[1;32m   2026\u001b[0m                 util.raise_(\n\u001b[0;32m-> 2027\u001b[0;31m                     \u001b[0msqlalchemy_exception\u001b[0m\u001b[0;34m,\u001b[0m \u001b[0mwith_traceback\u001b[0m\u001b[0;34m=\u001b[0m\u001b[0mexc_info\u001b[0m\u001b[0;34m[\u001b[0m\u001b[0;36m2\u001b[0m\u001b[0;34m]\u001b[0m\u001b[0;34m,\u001b[0m \u001b[0mfrom_\u001b[0m\u001b[0;34m=\u001b[0m\u001b[0me\u001b[0m\u001b[0;34m\u001b[0m\u001b[0;34m\u001b[0m\u001b[0m\n\u001b[0m\u001b[1;32m   2028\u001b[0m                 )\n",
            "\u001b[0;32m/usr/local/lib/python3.7/dist-packages/sqlalchemy/util/compat.py\u001b[0m in \u001b[0;36mraise_\u001b[0;34m(***failed resolving arguments***)\u001b[0m\n\u001b[1;32m    206\u001b[0m         \u001b[0;32mtry\u001b[0m\u001b[0;34m:\u001b[0m\u001b[0;34m\u001b[0m\u001b[0;34m\u001b[0m\u001b[0m\n\u001b[0;32m--> 207\u001b[0;31m             \u001b[0;32mraise\u001b[0m \u001b[0mexception\u001b[0m\u001b[0;34m\u001b[0m\u001b[0;34m\u001b[0m\u001b[0m\n\u001b[0m\u001b[1;32m    208\u001b[0m         \u001b[0;32mfinally\u001b[0m\u001b[0;34m:\u001b[0m\u001b[0;34m\u001b[0m\u001b[0;34m\u001b[0m\u001b[0m\n",
            "\u001b[0;32m/usr/local/lib/python3.7/dist-packages/sqlalchemy/engine/base.py\u001b[0m in \u001b[0;36m_execute_context\u001b[0;34m(self, dialect, constructor, statement, parameters, execution_options, *args, **kw)\u001b[0m\n\u001b[1;32m   1792\u001b[0m                     self.dialect.do_execute_no_params(\n\u001b[0;32m-> 1793\u001b[0;31m                         \u001b[0mcursor\u001b[0m\u001b[0;34m,\u001b[0m \u001b[0mstatement\u001b[0m\u001b[0;34m,\u001b[0m \u001b[0mcontext\u001b[0m\u001b[0;34m\u001b[0m\u001b[0;34m\u001b[0m\u001b[0m\n\u001b[0m\u001b[1;32m   1794\u001b[0m                     )\n",
            "\u001b[0;32m/usr/local/lib/python3.7/dist-packages/sqlalchemy/engine/default.py\u001b[0m in \u001b[0;36mdo_execute_no_params\u001b[0;34m(self, cursor, statement, context)\u001b[0m\n\u001b[1;32m    721\u001b[0m     \u001b[0;32mdef\u001b[0m \u001b[0mdo_execute_no_params\u001b[0m\u001b[0;34m(\u001b[0m\u001b[0mself\u001b[0m\u001b[0;34m,\u001b[0m \u001b[0mcursor\u001b[0m\u001b[0;34m,\u001b[0m \u001b[0mstatement\u001b[0m\u001b[0;34m,\u001b[0m \u001b[0mcontext\u001b[0m\u001b[0;34m=\u001b[0m\u001b[0;32mNone\u001b[0m\u001b[0;34m)\u001b[0m\u001b[0;34m:\u001b[0m\u001b[0;34m\u001b[0m\u001b[0;34m\u001b[0m\u001b[0m\n\u001b[0;32m--> 722\u001b[0;31m         \u001b[0mcursor\u001b[0m\u001b[0;34m.\u001b[0m\u001b[0mexecute\u001b[0m\u001b[0;34m(\u001b[0m\u001b[0mstatement\u001b[0m\u001b[0;34m)\u001b[0m\u001b[0;34m\u001b[0m\u001b[0;34m\u001b[0m\u001b[0m\n\u001b[0m\u001b[1;32m    723\u001b[0m \u001b[0;34m\u001b[0m\u001b[0m\n",
            "\u001b[0;31mOperationalError\u001b[0m: (sqlite3.OperationalError) database or disk is full\n[SQL:  \nWITH norm_bairros as (\nSELECT\n    Bairro_buyer\n    ,norm_bairro\n    ,Regional as regional\nFROM dfn\n),\nbase_imoveis as (\nSELECT\n    data\n    ,bairro\n    ,cidade\n    ,sum(Qtd_imoveis) as imoveis\nFROM df4 group by data, bairro, cidade\n),\ndb_imoveis as (\nSELECT\n    data as Data\n    ,cidade as Cidade\n    ,norm_bairro as Bairro\n    ,Bairro_buyer\n    ,regional\n    ,sum(imoveis) as Qtd_imoveis\nFROM\n    norm_bairros as c\nLEFT JOIN\n    base_imoveis c2 ON c.Bairro_buyer = c2.bairro\nGROUP BY\n    Data, Bairro, Cidade, regional\n),\ndb_lsa as (\nSELECT\n    data as data_lsa\n    ,cidade as cidade_lsa\n    ,bairro as bairro_lsa\n    ,sum(LSA) as Soma_LSA\nFROM df3 group by data_lsa, bairro_lsa, cidade_lsa\n),\ndb_lva as (\nSELECT\n    data as data_lva\n    ,cidade as cidade_lva\n    ,bairro as bairro_lva\n    ,sum(LVA) as Soma_LVA\nFROM df1 group by data_lva, bairro_lva, cidade_lva\n),\ndb_lvr as (\nSELECT\n    data as data_lvr\n    ,cidade as cidade_lvr\n    ,bairro as bairro_lvr\n    ,sum(LVR) as Soma_LVR\nFROM df2 group by data_lvr, bairro_lvr, cidade_lvr\n),\ndb_final as (\nSELECT\n    db_lsa.bairro_lsa as Bairro_lsa\n    ,db_lsa.Soma_LSA as SOMA_LSA\n    ,db_lva.bairro_lva as Bairro_lva\n    ,db_lva.Soma_LVA as SOMA_LVA\n    ,db_lvr.bairro_lvr as Bairro_lvr\n    ,db_lvr.Soma_LVR as SOMA_LVR\n    ,db_imoveis.data as DATA\n    ,db_imoveis.cidade as CIDADE\n    ,db_imoveis.Bairro_buyer\n    ,db_imoveis.regional as REGIONAL\n    ,db_imoveis.bairro as BAIRRO\n    ,db_imoveis.Qtd_imoveis as QTD_IMOVEIS\n    from db_imoveis\nLEFT JOIN\n    db_lsa ON db_imoveis.Bairro_buyer = Bairro_lsa\nLEFT JOIN\n    db_lva ON db_imoveis.Bairro_buyer = Bairro_lva\nLEFT JOIN\n    db_lvr ON db_imoveis.Bairro_buyer = Bairro_lvr\n  \nGROUP BY\n    DATA, BAIRRO, CIDADE, REGIONAL\n)\n\nSELECT DATA, CIDADE, BAIRRO, REGIONAL, QTD_IMOVEIS, SOMA_LSA, SOMA_LVA, SOMA_LVR from db_final GROUP BY 1,2,3,4\n]\n(Background on this error at: https://sqlalche.me/e/14/e3q8)",
            "\nDuring handling of the above exception, another exception occurred:\n",
            "\u001b[0;31mPandaSQLException\u001b[0m                         Traceback (most recent call last)",
            "\u001b[0;32m<ipython-input-34-e99c13890075>\u001b[0m in \u001b[0;36m<module>\u001b[0;34m()\u001b[0m\n\u001b[1;32m     83\u001b[0m \"\"\"\n\u001b[1;32m     84\u001b[0m \u001b[0;34m\u001b[0m\u001b[0m\n\u001b[0;32m---> 85\u001b[0;31m \u001b[0mdf_bairros\u001b[0m \u001b[0;34m=\u001b[0m \u001b[0mps\u001b[0m\u001b[0;34m.\u001b[0m\u001b[0msqldf\u001b[0m\u001b[0;34m(\u001b[0m\u001b[0mquery\u001b[0m\u001b[0;34m,\u001b[0m \u001b[0mlocals\u001b[0m\u001b[0;34m(\u001b[0m\u001b[0;34m)\u001b[0m\u001b[0;34m)\u001b[0m\u001b[0;34m\u001b[0m\u001b[0;34m\u001b[0m\u001b[0m\n\u001b[0m",
            "\u001b[0;32m/usr/local/lib/python3.7/dist-packages/pandasql/sqldf.py\u001b[0m in \u001b[0;36msqldf\u001b[0;34m(query, env, db_uri)\u001b[0m\n\u001b[1;32m    154\u001b[0m     \u001b[0;34m>>\u001b[0m\u001b[0;34m>\u001b[0m \u001b[0msqldf\u001b[0m\u001b[0;34m(\u001b[0m\u001b[0;34m\"select avg(x) from df;\"\u001b[0m\u001b[0;34m,\u001b[0m \u001b[0mlocals\u001b[0m\u001b[0;34m(\u001b[0m\u001b[0;34m)\u001b[0m\u001b[0;34m)\u001b[0m\u001b[0;34m\u001b[0m\u001b[0;34m\u001b[0m\u001b[0m\n\u001b[1;32m    155\u001b[0m     \"\"\"\n\u001b[0;32m--> 156\u001b[0;31m     \u001b[0;32mreturn\u001b[0m \u001b[0mPandaSQL\u001b[0m\u001b[0;34m(\u001b[0m\u001b[0mdb_uri\u001b[0m\u001b[0;34m)\u001b[0m\u001b[0;34m(\u001b[0m\u001b[0mquery\u001b[0m\u001b[0;34m,\u001b[0m \u001b[0menv\u001b[0m\u001b[0;34m)\u001b[0m\u001b[0;34m\u001b[0m\u001b[0;34m\u001b[0m\u001b[0m\n\u001b[0m",
            "\u001b[0;32m/usr/local/lib/python3.7/dist-packages/pandasql/sqldf.py\u001b[0m in \u001b[0;36m__call__\u001b[0;34m(self, query, env)\u001b[0m\n\u001b[1;32m     61\u001b[0m                 \u001b[0mresult\u001b[0m \u001b[0;34m=\u001b[0m \u001b[0mread_sql\u001b[0m\u001b[0;34m(\u001b[0m\u001b[0mquery\u001b[0m\u001b[0;34m,\u001b[0m \u001b[0mconn\u001b[0m\u001b[0;34m)\u001b[0m\u001b[0;34m\u001b[0m\u001b[0;34m\u001b[0m\u001b[0m\n\u001b[1;32m     62\u001b[0m             \u001b[0;32mexcept\u001b[0m \u001b[0mDatabaseError\u001b[0m \u001b[0;32mas\u001b[0m \u001b[0mex\u001b[0m\u001b[0;34m:\u001b[0m\u001b[0;34m\u001b[0m\u001b[0;34m\u001b[0m\u001b[0m\n\u001b[0;32m---> 63\u001b[0;31m                 \u001b[0;32mraise\u001b[0m \u001b[0mPandaSQLException\u001b[0m\u001b[0;34m(\u001b[0m\u001b[0mex\u001b[0m\u001b[0;34m)\u001b[0m\u001b[0;34m\u001b[0m\u001b[0;34m\u001b[0m\u001b[0m\n\u001b[0m\u001b[1;32m     64\u001b[0m             \u001b[0;32mexcept\u001b[0m \u001b[0mResourceClosedError\u001b[0m\u001b[0;34m:\u001b[0m\u001b[0;34m\u001b[0m\u001b[0;34m\u001b[0m\u001b[0m\n\u001b[1;32m     65\u001b[0m                 \u001b[0;31m# query returns nothing\u001b[0m\u001b[0;34m\u001b[0m\u001b[0;34m\u001b[0m\u001b[0;34m\u001b[0m\u001b[0m\n",
            "\u001b[0;31mPandaSQLException\u001b[0m: (sqlite3.OperationalError) database or disk is full\n[SQL:  \nWITH norm_bairros as (\nSELECT\n    Bairro_buyer\n    ,norm_bairro\n    ,Regional as regional\nFROM dfn\n),\nbase_imoveis as (\nSELECT\n    data\n    ,bairro\n    ,cidade\n    ,sum(Qtd_imoveis) as imoveis\nFROM df4 group by data, bairro, cidade\n),\ndb_imoveis as (\nSELECT\n    data as Data\n    ,cidade as Cidade\n    ,norm_bairro as Bairro\n    ,Bairro_buyer\n    ,regional\n    ,sum(imoveis) as Qtd_imoveis\nFROM\n    norm_bairros as c\nLEFT JOIN\n    base_imoveis c2 ON c.Bairro_buyer = c2.bairro\nGROUP BY\n    Data, Bairro, Cidade, regional\n),\ndb_lsa as (\nSELECT\n    data as data_lsa\n    ,cidade as cidade_lsa\n    ,bairro as bairro_lsa\n    ,sum(LSA) as Soma_LSA\nFROM df3 group by data_lsa, bairro_lsa, cidade_lsa\n),\ndb_lva as (\nSELECT\n    data as data_lva\n    ,cidade as cidade_lva\n    ,bairro as bairro_lva\n    ,sum(LVA) as Soma_LVA\nFROM df1 group by data_lva, bairro_lva, cidade_lva\n),\ndb_lvr as (\nSELECT\n    data as data_lvr\n    ,cidade as cidade_lvr\n    ,bairro as bairro_lvr\n    ,sum(LVR) as Soma_LVR\nFROM df2 group by data_lvr, bairro_lvr, cidade_lvr\n),\ndb_final as (\nSELECT\n    db_lsa.bairro_lsa as Bairro_lsa\n    ,db_lsa.Soma_LSA as SOMA_LSA\n    ,db_lva.bairro_lva as Bairro_lva\n    ,db_lva.Soma_LVA as SOMA_LVA\n    ,db_lvr.bairro_lvr as Bairro_lvr\n    ,db_lvr.Soma_LVR as SOMA_LVR\n    ,db_imoveis.data as DATA\n    ,db_imoveis.cidade as CIDADE\n    ,db_imoveis.Bairro_buyer\n    ,db_imoveis.regional as REGIONAL\n    ,db_imoveis.bairro as BAIRRO\n    ,db_imoveis.Qtd_imoveis as QTD_IMOVEIS\n    from db_imoveis\nLEFT JOIN\n    db_lsa ON db_imoveis.Bairro_buyer = Bairro_lsa\nLEFT JOIN\n    db_lva ON db_imoveis.Bairro_buyer = Bairro_lva\nLEFT JOIN\n    db_lvr ON db_imoveis.Bairro_buyer = Bairro_lvr\n  \nGROUP BY\n    DATA, BAIRRO, CIDADE, REGIONAL\n)\n\nSELECT DATA, CIDADE, BAIRRO, REGIONAL, QTD_IMOVEIS, SOMA_LSA, SOMA_LVA, SOMA_LVR from db_final GROUP BY 1,2,3,4\n]\n(Background on this error at: https://sqlalche.me/e/14/e3q8)"
          ]
        }
      ]
    },
    {
      "cell_type": "code",
      "source": [
        "df_bairros = df_bairros[df_bairros['DATA'].notna()]\n",
        "df_bairros"
      ],
      "metadata": {
        "id": "HaHjfKJbf9kB"
      },
      "execution_count": null,
      "outputs": []
    },
    {
      "cell_type": "markdown",
      "source": [
        "#### Extração do output para validação"
      ],
      "metadata": {
        "id": "b7Orb4t30n-7"
      }
    },
    {
      "cell_type": "code",
      "source": [
        "outpath = '/content/drive/MyDrive/Outputs_db/Data_base-bairros.xlsx'\n",
        "writer = pd.ExcelWriter(outpath)\n",
        "\n",
        "df_bairros.to_excel(writer)\n",
        "\n",
        "writer.save()"
      ],
      "metadata": {
        "id": "0LBpJyEfyhZM"
      },
      "execution_count": null,
      "outputs": []
    },
    {
      "cell_type": "markdown",
      "source": [
        "### Filtragem dos demais bancos de dados"
      ],
      "metadata": {
        "id": "JrgLZ5Sac1qz"
      }
    }
  ]
}