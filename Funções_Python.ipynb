{
  "nbformat": 4,
  "nbformat_minor": 0,
  "metadata": {
    "colab": {
      "name": "Funções Python",
      "provenance": [],
      "collapsed_sections": [],
      "include_colab_link": true
    },
    "kernelspec": {
      "name": "python3",
      "display_name": "Python 3"
    }
  },
  "cells": [
    {
      "cell_type": "markdown",
      "metadata": {
        "id": "view-in-github",
        "colab_type": "text"
      },
      "source": [
        "<a href=\"https://colab.research.google.com/github/guifluz/studies/blob/master/Fun%C3%A7%C3%B5es_Python.ipynb\" target=\"_parent\"><img src=\"https://colab.research.google.com/assets/colab-badge.svg\" alt=\"Open In Colab\"/></a>"
      ]
    },
    {
      "cell_type": "markdown",
      "metadata": {
        "id": "-fMcBg4_E7HX"
      },
      "source": [
        "\n",
        "![images.png](data:image/png;base64,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)</b> <br>Consultor: Peterson Almeida <br>\n",
        "\n",
        "\n",
        "\n",
        "<h1> Funções Python </h1>\n",
        "\n",
        "<b> Geral:</b><br>\n",
        "Além das funções já prontas e instaladas e das funções prontas feitas e disponibilizadas pela comunidade, você pode monstar sua própria função e utilizar de maneira simples e rápida.\n",
        "<br> <br>\n",
        "\n",
        "\n",
        "\n",
        "\n"
      ]
    },
    {
      "cell_type": "code",
      "metadata": {
        "colab": {
          "base_uri": "https://localhost:8080/",
          "height": 35
        },
        "id": "AX9K5V3dZiOy",
        "outputId": "153fd23b-1c02-4bdb-a054-eb04c39a862a"
      },
      "source": [
        "#criação da primeira função\n",
        "def primeira_func():\n",
        "  return \"primeira função\"\n",
        "primeira_func()"
      ],
      "execution_count": null,
      "outputs": [
        {
          "output_type": "execute_result",
          "data": {
            "application/vnd.google.colaboratory.intrinsic+json": {
              "type": "string"
            },
            "text/plain": [
              "'primeira função'"
            ]
          },
          "metadata": {
            "tags": []
          },
          "execution_count": 1
        }
      ]
    },
    {
      "cell_type": "code",
      "metadata": {
        "id": "ZRPUB188JWET",
        "colab": {
          "base_uri": "https://localhost:8080/"
        },
        "outputId": "a69f526c-4352-407a-89e9-ef98c0c71f1f"
      },
      "source": [
        "#pode dar o nome que quiser desde que não seja numeros nem palavras reservadas do python\n",
        "def seg_func (x,y):\n",
        "  return x+y\n",
        "seg_func(10,7)"
      ],
      "execution_count": null,
      "outputs": [
        {
          "output_type": "execute_result",
          "data": {
            "text/plain": [
              "17"
            ]
          },
          "metadata": {
            "tags": []
          },
          "execution_count": 2
        }
      ]
    },
    {
      "cell_type": "code",
      "metadata": {
        "colab": {
          "base_uri": "https://localhost:8080/"
        },
        "id": "q-L7ajiiOerf",
        "outputId": "cef3dbd6-9268-4cca-c904-9e794aa59efc"
      },
      "source": [
        "#pode usar funções built-in dentro da função\n",
        "def contador_lista(lista):\n",
        "  return len(lista),sum(lista)\n",
        "contador_lista([0,1,2,3,4,5,6,7,8,9])"
      ],
      "execution_count": null,
      "outputs": [
        {
          "output_type": "execute_result",
          "data": {
            "text/plain": [
              "(10, 45)"
            ]
          },
          "metadata": {
            "tags": []
          },
          "execution_count": 5
        }
      ]
    },
    {
      "cell_type": "code",
      "metadata": {
        "colab": {
          "base_uri": "https://localhost:8080/",
          "height": 35
        },
        "id": "rZ1_nQ4kWgmS",
        "outputId": "d588efad-14d7-4232-fa75-834f7dea49af"
      },
      "source": [
        "#função verifica se é par, atribui numa variável e retorna resposta \"o numero é\"+variavel\n",
        "def  verifica_par(x):\n",
        "  if x % 2==0:\n",
        "    result = 'par'\n",
        "  else:\n",
        "    result='impar'\n",
        "  return 'o numero é '+result\n",
        "verifica_par(11)"
      ],
      "execution_count": null,
      "outputs": [
        {
          "output_type": "execute_result",
          "data": {
            "application/vnd.google.colaboratory.intrinsic+json": {
              "type": "string"
            },
            "text/plain": [
              "'o numero é impar'"
            ]
          },
          "metadata": {
            "tags": []
          },
          "execution_count": 8
        }
      ]
    },
    {
      "cell_type": "code",
      "metadata": {
        "colab": {
          "base_uri": "https://localhost:8080/"
        },
        "id": "U2c8cK4lY81Q",
        "outputId": "df7500da-327b-4aeb-c37e-5db8a299745c"
      },
      "source": [
        "#lista com numeros de 1 a 9\n",
        "lista=[1,2,3,4,5,6,7,8,9]\n",
        "#utilizando o map para aplicar a função verifica_par na lista e atribuindo o resultado em x\n",
        "x = map(verifica_par, lista)\n",
        "#printando a list de x porque o map retorna um construtor\n",
        "print(list(x))"
      ],
      "execution_count": null,
      "outputs": [
        {
          "output_type": "stream",
          "text": [
            "['o numero é impar', 'o numero é par', 'o numero é impar', 'o numero é par', 'o numero é impar', 'o numero é par', 'o numero é impar', 'o numero é par', 'o numero é impar']\n"
          ],
          "name": "stdout"
        }
      ]
    },
    {
      "cell_type": "code",
      "metadata": {
        "id": "qory-vRbVL1p"
      },
      "source": [
        "#criando nova função verifica_par e atribuindo True ou False na variavel que vai retornar\n",
        "def  verifica_par_filtro(x):\n",
        "  if x % 2==0:\n",
        "    result = True\n",
        "  else:\n",
        "    result= False\n",
        "  return result"
      ],
      "execution_count": null,
      "outputs": []
    },
    {
      "cell_type": "code",
      "metadata": {
        "colab": {
          "base_uri": "https://localhost:8080/"
        },
        "id": "x8qHlWxNOlKg",
        "outputId": "aec46c50-3440-4e97-84d5-6db699cdb449"
      },
      "source": [
        "#utilizando o filter para aplicar a nova função verifica_par em uma lista e atribuindo a x\n",
        "x = filter(verifica_par_filtro, [1,2,3,4,5,6,7,8,9])\n",
        "#printando list de x porque o filter retorna um construtor\n",
        "print(list(x))"
      ],
      "execution_count": null,
      "outputs": [
        {
          "output_type": "stream",
          "text": [
            "[2, 4, 6, 8]\n"
          ],
          "name": "stdout"
        }
      ]
    },
    {
      "cell_type": "code",
      "metadata": {
        "id": "Fl0ltvz4Om3_"
      },
      "source": [
        "#criando função taboada que recebe um número e percorre o for com print da multiplicação desse numero até o range definido\n",
        "def taboada (x):\n",
        "  for a in range(11):\n",
        "    print (x,' x ',a,' = ',x*a)"
      ],
      "execution_count": null,
      "outputs": []
    },
    {
      "cell_type": "code",
      "metadata": {
        "colab": {
          "base_uri": "https://localhost:8080/"
        },
        "id": "D05dzWR7OqW1",
        "outputId": "b0aef4e9-b81e-47dc-8955-960cdc42e5b4"
      },
      "source": [
        "taboada(9)"
      ],
      "execution_count": null,
      "outputs": [
        {
          "output_type": "stream",
          "text": [
            "9  x  0  =  0\n",
            "9  x  1  =  9\n",
            "9  x  2  =  18\n",
            "9  x  3  =  27\n",
            "9  x  4  =  36\n",
            "9  x  5  =  45\n",
            "9  x  6  =  54\n",
            "9  x  7  =  63\n",
            "9  x  8  =  72\n",
            "9  x  9  =  81\n",
            "9  x  10  =  90\n"
          ],
          "name": "stdout"
        }
      ]
    },
    {
      "cell_type": "code",
      "metadata": {
        "id": "K9gcbgeWOzjM"
      },
      "source": [
        "#criando variavel que recebe x e y e atribuindo x e y default\n",
        "def padrao (x=10,y=5):\n",
        "  return x+y"
      ],
      "execution_count": null,
      "outputs": []
    },
    {
      "cell_type": "code",
      "metadata": {
        "colab": {
          "base_uri": "https://localhost:8080/"
        },
        "id": "W2NF5jl6PJnB",
        "outputId": "52f76e2a-c99d-46ae-fb98-8096fec86f6f"
      },
      "source": [
        "#print da função padrão acima sem passar parâmetros\n",
        "print(padrao())\n",
        "#print da função padrão acima passando o valor de x\n",
        "print(padrao(x=15))\n",
        "#print da função padrão acima passando o valor de x e de y\n",
        "print(padrao(x=15,y=30))\n",
        "#print da função padrão acima passado 2 valores\n",
        "print(padrao(33,37))\n",
        "#print da função padrão acima passando o valor de y\n",
        "print(padrao(y=29))\n"
      ],
      "execution_count": null,
      "outputs": [
        {
          "output_type": "stream",
          "text": [
            "15\n",
            "20\n",
            "45\n",
            "70\n",
            "39\n"
          ],
          "name": "stdout"
        }
      ]
    },
    {
      "cell_type": "code",
      "metadata": {
        "id": "wRggtOWSPJ6y"
      },
      "source": [
        "#criando função sem print e sem return\n",
        "def npadrao (x=10,y=10):\n",
        "  x+y\n"
      ],
      "execution_count": null,
      "outputs": []
    },
    {
      "cell_type": "code",
      "metadata": {
        "id": "cGg3nSdmPbBi",
        "colab": {
          "base_uri": "https://localhost:8080/"
        },
        "outputId": "58c65abe-9d66-4068-a551-5417e2e67594"
      },
      "source": [
        "#printando a função\n",
        "print(npadrao())"
      ],
      "execution_count": null,
      "outputs": [
        {
          "output_type": "stream",
          "text": [
            "None\n"
          ],
          "name": "stdout"
        }
      ]
    },
    {
      "cell_type": "code",
      "metadata": {
        "id": "tATIujhaPelZ"
      },
      "source": [
        "#criando função cadastro com input de nome e sobrenome e retornando nome e sobrenome do input\n",
        "def cadastro():\n",
        "  print(\"digite seu nome:\")\n",
        "  nome=input()\n",
        "  print(\"digite seu sobrenome:\")\n",
        "  snome=input()\n",
        "  return nome,snome"
      ],
      "execution_count": null,
      "outputs": []
    },
    {
      "cell_type": "code",
      "metadata": {
        "colab": {
          "base_uri": "https://localhost:8080/"
        },
        "id": "MPJ9F0mgPh5o",
        "outputId": "1e7fa058-c5a1-49da-cb76-cab1d6976f1d"
      },
      "source": [
        "#criando variavel usuario e chamando funcao cadastro\n",
        "user = cadastro()\n",
        "#printando variavel usuario\n",
        "print(user)"
      ],
      "execution_count": null,
      "outputs": [
        {
          "output_type": "stream",
          "text": [
            "digite seu nome:\n",
            "peter\n",
            "digite seu sobrenome:\n",
            "almeida\n",
            "('peter', 'almeida')\n"
          ],
          "name": "stdout"
        }
      ]
    },
    {
      "cell_type": "markdown",
      "metadata": {
        "id": "hES3OzKFs39u"
      },
      "source": [
        "<h1>Exercícios:<h1>"
      ]
    },
    {
      "cell_type": "markdown",
      "metadata": {
        "id": "RIh9DRYRPRYH"
      },
      "source": [
        "1. Crie uma função que receba o input do cpf e nome do usuário.\n",
        "\n"
      ]
    },
    {
      "cell_type": "code",
      "metadata": {
        "id": "tzM5KqUYs92s"
      },
      "source": [
        ""
      ],
      "execution_count": null,
      "outputs": []
    },
    {
      "cell_type": "markdown",
      "metadata": {
        "id": "ooHbr2yfeHe-"
      },
      "source": [
        "2. Agora nessa mesma função coloque o retorno como um dicionário onde a chave é o cpf e o valor o nome do usuário."
      ]
    },
    {
      "cell_type": "code",
      "metadata": {
        "id": "ihp-YPD3s_le"
      },
      "source": [
        ""
      ],
      "execution_count": null,
      "outputs": []
    },
    {
      "cell_type": "markdown",
      "metadata": {
        "id": "o5LreSKitBLX"
      },
      "source": [
        "3. Crie uma função para retornar a quantidade de CPF cadastrados"
      ]
    },
    {
      "cell_type": "code",
      "metadata": {
        "id": "A8pUEix1tjjg"
      },
      "source": [
        ""
      ],
      "execution_count": null,
      "outputs": []
    },
    {
      "cell_type": "markdown",
      "metadata": {
        "id": "ajPq87-yZ8yp"
      },
      "source": [
        "<h2> Funções Lambda  </h2>"
      ]
    },
    {
      "cell_type": "markdown",
      "metadata": {
        "id": "F5lk-uNVaGd9"
      },
      "source": [
        "Funções Lambdas são funções no python que nos permite construir em apenas uma linha de código funções como vimos anteriormente."
      ]
    },
    {
      "cell_type": "code",
      "metadata": {
        "colab": {
          "base_uri": "https://localhost:8080/"
        },
        "id": "urOixBfQaVbI",
        "outputId": "a162f87d-e275-4e4c-b26a-19389769cb01"
      },
      "source": [
        "#criando função lambda que soma x com x e atribuindo a f1\n",
        "f1 = lambda x:x+2\n",
        "#criando função lambda que eleva x ao quadrado e atribuindo a f2\n",
        "f1(10)\n",
        "#printando f1 e passando o x\n",
        "f2 = lambda x,y:x+y\n",
        "#printando f2 e passando o x\n",
        "f2(10,12)"
      ],
      "execution_count": null,
      "outputs": [
        {
          "output_type": "execute_result",
          "data": {
            "text/plain": [
              "22"
            ]
          },
          "metadata": {
            "tags": []
          },
          "execution_count": 10
        }
      ]
    },
    {
      "cell_type": "code",
      "metadata": {
        "colab": {
          "base_uri": "https://localhost:8080/",
          "height": 35
        },
        "id": "iqyLrggNbKBH",
        "outputId": "b42c9e99-3af4-4f17-b29d-b9231c2ffc8b"
      },
      "source": [
        "#criando funcao de verificar par com lambda\n",
        "ver_par = lambda x: 'par' if x %2==0 else 'impar'\n",
        "#chamando função verifica par\n",
        "ver_par(11)"
      ],
      "execution_count": null,
      "outputs": [
        {
          "output_type": "execute_result",
          "data": {
            "application/vnd.google.colaboratory.intrinsic+json": {
              "type": "string"
            },
            "text/plain": [
              "'impar'"
            ]
          },
          "metadata": {
            "tags": []
          },
          "execution_count": 14
        }
      ]
    },
    {
      "cell_type": "code",
      "metadata": {
        "colab": {
          "base_uri": "https://localhost:8080/"
        },
        "id": "3ud_vn_Abjat",
        "outputId": "26a7b2ea-d5d4-488c-89db-02f928c20bcc"
      },
      "source": [
        "#utilizando o map para executar a função verifica par em uma lista e atribuindo a variavel par\n",
        "#convertendo o map para lista\n",
        "#criando funcao de verificar par com lambda\n",
        "ver_par_filter = lambda x: True if x %2==0 else False\n",
        "#chamando função verifica par\n",
        "ver_par_filter(11)\n",
        "#printando variavel par\n",
        "lista=[1,2,3,4,5,3,6,4,3]\n",
        "pares = list(filter(lambda x: True if x %2==0 else False,lista))\n",
        "print(pares)\n"
      ],
      "execution_count": null,
      "outputs": [
        {
          "output_type": "stream",
          "text": [
            "[2, 4, 6, 4]\n"
          ],
          "name": "stdout"
        }
      ]
    },
    {
      "cell_type": "code",
      "metadata": {
        "colab": {
          "base_uri": "https://localhost:8080/"
        },
        "id": "ZedMbqItbv4q",
        "outputId": "bf37aff5-68e3-41a8-d2cf-fd9eaac66c15"
      },
      "source": [
        "#criando função lambda verifica par dentro do map e passando uma lista e convertendo resultado para lista\n",
        "\n",
        "#printando o resultado de par\n",
        "#list(map(lambda x: 'par' if x %2==0 else 'impar' ,lista))\n",
        "list(filter(ver_par_filter,lista))"
      ],
      "execution_count": null,
      "outputs": [
        {
          "output_type": "execute_result",
          "data": {
            "text/plain": [
              "[2, 4, 6, 4]"
            ]
          },
          "metadata": {
            "tags": []
          },
          "execution_count": 28
        }
      ]
    },
    {
      "cell_type": "code",
      "metadata": {
        "colab": {
          "base_uri": "https://localhost:8080/"
        },
        "id": "JH7FhWeQcRMC",
        "outputId": "77bd3624-a017-46e1-9e4b-6b9882ce263c"
      },
      "source": [
        "#criando função lambda dentro do filter e passando como lista range(10)\n",
        "#convertendo os valores para lista e atribuindo a variavel par\n",
        "list(filter(ver_par_filter,range(10)))\n",
        "#printando a variavel par\n"
      ],
      "execution_count": null,
      "outputs": [
        {
          "output_type": "execute_result",
          "data": {
            "text/plain": [
              "[0, 2, 4, 6, 8]"
            ]
          },
          "metadata": {
            "tags": []
          },
          "execution_count": 29
        }
      ]
    },
    {
      "cell_type": "code",
      "metadata": {
        "colab": {
          "base_uri": "https://localhost:8080/"
        },
        "id": "jr27uu_wcX9d",
        "outputId": "b5e7dbaa-1748-4afd-a1f5-ca7c83ee93dc"
      },
      "source": [
        "#importando o modulo reduce da biblioteca functools\n",
        "#biblioteca é um diretório de modulos \n",
        "from functools import reduce\n",
        "\n",
        "#atribuindo o resultado do reduce a uma nova variável e criando uma função lambda para somar x e y e passando lista range(10)\n",
        "# irá acumular as soma dos números de 0 a 9 na variável x\n",
        "#printando o resultado acima\n",
        "reduce(lambda x,y:x+y, range(11))\n",
        "\n",
        "# equivalente a criar x = 0, percorrer um for range(10) e somar x com y percorrido no for\n",
        "y=0\n",
        "for a in range(11):\n",
        "  y+=a\n",
        "print(y)\n"
      ],
      "execution_count": null,
      "outputs": [
        {
          "output_type": "stream",
          "text": [
            "55\n"
          ],
          "name": "stdout"
        }
      ]
    },
    {
      "cell_type": "code",
      "metadata": {
        "colab": {
          "base_uri": "https://localhost:8080/"
        },
        "id": "Vo98IeG0c1Hl",
        "outputId": "9360157d-041b-4b6d-c5e5-f7e28e740ddd"
      },
      "source": [
        "#recriando o reduce acima porém com x iniciando em 100\n",
        " # irá acumular as soma dos números de 0 a 9 na variável x, \n",
        "                                          # porém, a variável x é inicializada como 100\n",
        "\n",
        "print(reduce(lambda x,y:x+y, range(100)))\n",
        "\n",
        "# equivalente a criar x = 0, percorrer um for range(10) e somar x com y percorrido no for\n",
        "y=0\n",
        "for a in range(100):\n",
        "  y+=a\n",
        "print(y)\n",
        "# equivalent to\n"
      ],
      "execution_count": null,
      "outputs": [
        {
          "output_type": "stream",
          "text": [
            "4950\n",
            "4950\n"
          ],
          "name": "stdout"
        }
      ]
    },
    {
      "cell_type": "code",
      "metadata": {
        "colab": {
          "base_uri": "https://localhost:8080/"
        },
        "id": "kCs8RPmbc81L",
        "outputId": "9e02654b-14c6-48d3-b3b3-68ddfe68fe8e"
      },
      "source": [
        "#criando uma função lambda que retorna a soma de 3 valores recebidos\n",
        "soma = lambda a,b,c : a+b+c\n",
        "soma(10,20,30)"
      ],
      "execution_count": null,
      "outputs": [
        {
          "output_type": "execute_result",
          "data": {
            "text/plain": [
              "60"
            ]
          },
          "metadata": {
            "tags": []
          },
          "execution_count": 43
        }
      ]
    },
    {
      "cell_type": "markdown",
      "metadata": {
        "id": "OJ8l2R0zOjFb"
      },
      "source": [
        "<h2> Dicas </h2>"
      ]
    },
    {
      "cell_type": "markdown",
      "metadata": {
        "id": "fNkVMA5se0K5"
      },
      "source": [
        "\n",
        "\n",
        "> A gama de conhecimentos que vimos até aqui já resolve a grande maioria dos problemas que aparecem no dia a dia. Claro que ainda há muito pela frente, mas essa base será utilizada durante o curso todo e a hora de praticar é o momento que mais absorvemos o conteúdo.\n"
      ]
    },
    {
      "cell_type": "markdown",
      "metadata": {
        "id": "6JNsXVpdPICs"
      },
      "source": [
        "<h1>Exercícios:<h1>"
      ]
    },
    {
      "cell_type": "markdown",
      "metadata": {
        "id": "GLnWQ_toeaX3"
      },
      "source": [
        "1. Crie uma função Lambda para retornar a soma de 4 valores.\n"
      ]
    },
    {
      "cell_type": "code",
      "metadata": {
        "id": "8wlFzVjleZmO",
        "outputId": "b522ad64-5f0f-4943-e537-6594eb353a4b",
        "colab": {
          "base_uri": "https://localhost:8080/"
        }
      },
      "source": [
        "a = lambda x,y,z: x+y+z\n",
        "a(5,4,3)"
      ],
      "execution_count": 1,
      "outputs": [
        {
          "output_type": "execute_result",
          "data": {
            "text/plain": [
              "12"
            ]
          },
          "metadata": {
            "tags": []
          },
          "execution_count": 1
        }
      ]
    },
    {
      "cell_type": "markdown",
      "metadata": {
        "id": "2xk8HAyve9z1"
      },
      "source": [
        "2. Utilize uma função filter para retornar somente os números pares da lista abaixo.<br>\n",
        "[5,2,5,7,4,2,6,10,342,54,23,6,7,9,12]\n"
      ]
    },
    {
      "cell_type": "code",
      "metadata": {
        "id": "Np08VJ4QO0t6",
        "outputId": "2097c76f-af6e-4c10-a97c-70d8876b958f",
        "colab": {
          "base_uri": "https://localhost:8080/"
        }
      },
      "source": [
        "val_pares = lambda x: True if x%2==0 else False\n",
        "valores = [5,2,5,7,4,2,6,10,342,54,23,6,7,9,12]\n",
        "filtro = list(filter(val_pares,valores))\n",
        "filtro"
      ],
      "execution_count": 4,
      "outputs": [
        {
          "output_type": "execute_result",
          "data": {
            "text/plain": [
              "[2, 4, 2, 6, 10, 342, 54, 6, 12]"
            ]
          },
          "metadata": {
            "tags": []
          },
          "execution_count": 4
        }
      ]
    },
    {
      "cell_type": "markdown",
      "metadata": {
        "id": "2L2OhztWfGyy"
      },
      "source": [
        "3. Utilize a função reduce e retorne a soma da lista anterior."
      ]
    },
    {
      "cell_type": "code",
      "metadata": {
        "id": "3E5fPb7vfLzT"
      },
      "source": [
        ""
      ],
      "execution_count": null,
      "outputs": []
    }
  ]
}