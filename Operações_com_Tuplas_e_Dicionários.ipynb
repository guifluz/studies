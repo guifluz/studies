{
  "nbformat": 4,
  "nbformat_minor": 0,
  "metadata": {
    "colab": {
      "name": "Operações com Tuplas e Dicionários",
      "provenance": [],
      "include_colab_link": true
    },
    "kernelspec": {
      "name": "python3",
      "display_name": "Python 3"
    }
  },
  "cells": [
    {
      "cell_type": "markdown",
      "metadata": {
        "id": "view-in-github",
        "colab_type": "text"
      },
      "source": [
        "<a href=\"https://colab.research.google.com/github/guifluz/studies/blob/master/Opera%C3%A7%C3%B5es_com_Tuplas_e_Dicion%C3%A1rios.ipynb\" target=\"_parent\"><img src=\"https://colab.research.google.com/assets/colab-badge.svg\" alt=\"Open In Colab\"/></a>"
      ]
    },
    {
      "cell_type": "markdown",
      "metadata": {
        "id": "-fMcBg4_E7HX"
      },
      "source": [
        "\n",
        "![images.png](data:image/png;base64,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)</b> <br>Consultor: Peterson Almeida <br>\n",
        "\n",
        "\n",
        "\n",
        "<h1> Operações com Tuplas e Dicionários </h1>\n",
        "\n",
        "<b> Geral:</b><br>\n",
        "Vimos já um poucos de tuplas e dicionários, agora vamos entrar mais afundo nas operações que podemos fazer em objetos desse tipo.\n",
        "<br> <br>\n",
        "\n",
        "\n",
        "\n",
        "\n"
      ]
    },
    {
      "cell_type": "markdown",
      "metadata": {
        "id": "YwmBUj9HTMf-"
      },
      "source": [
        "<b>Operações com Tuplas</b> <br>\n",
        "Diferente de listas e strings, a quantidade de métodos para Tuplas são bem limitados, sendo eles: \n",
        "\n",
        "1.   Count() -> Conta a quantidade de ocorrência de determinado valor.\n",
        "2. Index() -> Procura na tupla determinado valor e retorna seu endereço.\n"
      ]
    },
    {
      "cell_type": "markdown",
      "metadata": {
        "id": "Hw7UPk70X5CX"
      },
      "source": [
        "**Count()**"
      ]
    },
    {
      "cell_type": "code",
      "metadata": {
        "id": "6kBxzEzYWx12",
        "colab": {
          "base_uri": "https://localhost:8080/"
        },
        "outputId": "ad5f5a4e-c6e8-462e-8614-cafaf9d9ba1a"
      },
      "source": [
        "tupla_1 = (1,2,4,7,5,6,(4,3),1,2,1)\n",
        "print(tupla_1)\n",
        "print(tupla_1.count(1))\n",
        "print(tupla_1.count(3))\n",
        "tupla_2 = (\"oi\",\"tchau\",\"boa tarde\")\n",
        "print(tupla_2)\n",
        "print(tupla_2.count(\"oi\"))\n",
        "print(tupla_2.count(\"o\"))\n"
      ],
      "execution_count": null,
      "outputs": [
        {
          "output_type": "stream",
          "text": [
            "(1, 2, 4, 7, 5, 6, (4, 3), 1, 2, 1)\n",
            "3\n",
            "0\n",
            "('oi', 'tchau', 'boa tarde')\n",
            "1\n",
            "0\n"
          ],
          "name": "stdout"
        }
      ]
    },
    {
      "cell_type": "markdown",
      "metadata": {
        "id": "HSi88BZGMECg"
      },
      "source": [
        "**Index()**"
      ]
    },
    {
      "cell_type": "code",
      "metadata": {
        "id": "ZRPUB188JWET",
        "colab": {
          "base_uri": "https://localhost:8080/",
          "height": 270
        },
        "outputId": "561ab591-073f-4854-e6ff-a4c515d89fc6"
      },
      "source": [
        "print(tupla_1)\n",
        "print(tupla_1.index((4,3)))\n",
        "print(tupla_2)\n",
        "print(tupla_2.index(\"boa tarde\"))\n",
        "print(tupla_2.index(\"o\"))"
      ],
      "execution_count": null,
      "outputs": [
        {
          "output_type": "stream",
          "text": [
            "(1, 2, 4, 7, 5, 6, (4, 3), 1, 2, 1)\n",
            "6\n",
            "('oi', 'tchau', 'boa tarde')\n",
            "2\n"
          ],
          "name": "stdout"
        },
        {
          "output_type": "error",
          "ename": "ValueError",
          "evalue": "ignored",
          "traceback": [
            "\u001b[0;31m---------------------------------------------------------------------------\u001b[0m",
            "\u001b[0;31mValueError\u001b[0m                                Traceback (most recent call last)",
            "\u001b[0;32m<ipython-input-7-b68266ed9cfa>\u001b[0m in \u001b[0;36m<module>\u001b[0;34m()\u001b[0m\n\u001b[1;32m      3\u001b[0m \u001b[0mprint\u001b[0m\u001b[0;34m(\u001b[0m\u001b[0mtupla_2\u001b[0m\u001b[0;34m)\u001b[0m\u001b[0;34m\u001b[0m\u001b[0;34m\u001b[0m\u001b[0m\n\u001b[1;32m      4\u001b[0m \u001b[0mprint\u001b[0m\u001b[0;34m(\u001b[0m\u001b[0mtupla_2\u001b[0m\u001b[0;34m.\u001b[0m\u001b[0mindex\u001b[0m\u001b[0;34m(\u001b[0m\u001b[0;34m\"boa tarde\"\u001b[0m\u001b[0;34m)\u001b[0m\u001b[0;34m)\u001b[0m\u001b[0;34m\u001b[0m\u001b[0;34m\u001b[0m\u001b[0m\n\u001b[0;32m----> 5\u001b[0;31m \u001b[0mprint\u001b[0m\u001b[0;34m(\u001b[0m\u001b[0mtupla_2\u001b[0m\u001b[0;34m.\u001b[0m\u001b[0mindex\u001b[0m\u001b[0;34m(\u001b[0m\u001b[0;34m\"o\"\u001b[0m\u001b[0;34m)\u001b[0m\u001b[0;34m)\u001b[0m\u001b[0;34m\u001b[0m\u001b[0;34m\u001b[0m\u001b[0m\n\u001b[0m",
            "\u001b[0;31mValueError\u001b[0m: tuple.index(x): x not in tuple"
          ]
        }
      ]
    },
    {
      "cell_type": "markdown",
      "metadata": {
        "id": "dN8gvICFPJL4"
      },
      "source": [
        "**Usando funções do python para tuplas** <br> Por mais que temos um leque de opções limitados para métodos próprios para tuplas, podemos utilizar métodos gerais do python que são compatíveis com operações com tupla, ou então construir nossos próprios métodos."
      ]
    },
    {
      "cell_type": "code",
      "metadata": {
        "colab": {
          "base_uri": "https://localhost:8080/",
          "height": 253
        },
        "id": "ZqeIr7IqPLhc",
        "outputId": "7a095ae4-976f-4434-d220-d6fc95d93291"
      },
      "source": [
        "tupla_3 = tupla_1 + tupla_2\n",
        "print(tupla_3)\n",
        "del tupla_3\n",
        "print(tupla_3)\n"
      ],
      "execution_count": null,
      "outputs": [
        {
          "output_type": "stream",
          "text": [
            "(1, 2, 4, 7, 5, 6, (4, 3), 1, 2, 1, 'oi', 'tchau', 'boa tarde')\n"
          ],
          "name": "stdout"
        },
        {
          "output_type": "error",
          "ename": "NameError",
          "evalue": "ignored",
          "traceback": [
            "\u001b[0;31m---------------------------------------------------------------------------\u001b[0m",
            "\u001b[0;31mNameError\u001b[0m                                 Traceback (most recent call last)",
            "\u001b[0;32m<ipython-input-10-3fa67d38f349>\u001b[0m in \u001b[0;36m<module>\u001b[0;34m()\u001b[0m\n\u001b[1;32m      2\u001b[0m \u001b[0mprint\u001b[0m\u001b[0;34m(\u001b[0m\u001b[0mtupla_3\u001b[0m\u001b[0;34m)\u001b[0m\u001b[0;34m\u001b[0m\u001b[0;34m\u001b[0m\u001b[0m\n\u001b[1;32m      3\u001b[0m \u001b[0;32mdel\u001b[0m \u001b[0mtupla_3\u001b[0m\u001b[0;34m\u001b[0m\u001b[0;34m\u001b[0m\u001b[0m\n\u001b[0;32m----> 4\u001b[0;31m \u001b[0mprint\u001b[0m\u001b[0;34m(\u001b[0m\u001b[0mtupla_3\u001b[0m\u001b[0;34m)\u001b[0m\u001b[0;34m\u001b[0m\u001b[0;34m\u001b[0m\u001b[0m\n\u001b[0m\u001b[1;32m      5\u001b[0m \u001b[0mtupla_3\u001b[0m \u001b[0;34m=\u001b[0m \u001b[0;34m(\u001b[0m\u001b[0;36m10\u001b[0m\u001b[0;34m,\u001b[0m\u001b[0;36m203\u001b[0m\u001b[0;34m,\u001b[0m\u001b[0;36m40\u001b[0m\u001b[0;34m,\u001b[0m\u001b[0;36m7\u001b[0m\u001b[0;34m)\u001b[0m\u001b[0;34m*\u001b[0m\u001b[0;36m2\u001b[0m\u001b[0;34m\u001b[0m\u001b[0;34m\u001b[0m\u001b[0m\n\u001b[1;32m      6\u001b[0m \u001b[0mprint\u001b[0m\u001b[0;34m(\u001b[0m\u001b[0mtupla_3\u001b[0m\u001b[0;34m)\u001b[0m\u001b[0;34m\u001b[0m\u001b[0;34m\u001b[0m\u001b[0m\n",
            "\u001b[0;31mNameError\u001b[0m: name 'tupla_3' is not defined"
          ]
        }
      ]
    },
    {
      "cell_type": "code",
      "metadata": {
        "colab": {
          "base_uri": "https://localhost:8080/"
        },
        "id": "5lvz723K6XMv",
        "outputId": "c90ae971-73e3-4b33-c1f0-1134b4c60658"
      },
      "source": [
        "tupla_3 = (10,203,40,7)*2\n",
        "print(tupla_3)\n",
        "print(id(tupla_3))\n",
        "lista = list(tupla_3)\n",
        "lista.sort()\n",
        "tupla_3= tuple(lista)\n",
        "print(id(tupla_3))\n",
        "tupla_3"
      ],
      "execution_count": null,
      "outputs": [
        {
          "output_type": "stream",
          "text": [
            "(10, 203, 40, 7, 10, 203, 40, 7)\n",
            "139764975031016\n",
            "139764975032920\n"
          ],
          "name": "stdout"
        },
        {
          "output_type": "execute_result",
          "data": {
            "text/plain": [
              "(7, 7, 10, 10, 40, 40, 203, 203)"
            ]
          },
          "metadata": {
            "tags": []
          },
          "execution_count": 17
        }
      ]
    },
    {
      "cell_type": "code",
      "metadata": {
        "colab": {
          "base_uri": "https://localhost:8080/"
        },
        "id": "8W3iO8fyFM7C",
        "outputId": "d7be6200-8b56-4522-8acf-9d5906c9e0f4"
      },
      "source": [
        "(valor_1,valor_2,valor_3)=tupla_2\n",
        "print(valor_1)\n",
        "print(valor_2)\n",
        "print(valor_3)"
      ],
      "execution_count": null,
      "outputs": [
        {
          "output_type": "stream",
          "text": [
            "oi\n",
            "tchau\n",
            "boa tarde\n"
          ],
          "name": "stdout"
        }
      ]
    },
    {
      "cell_type": "markdown",
      "metadata": {
        "id": "5IOBiKO0MxmG"
      },
      "source": [
        "<h2> Bônus: Set </h2> <br> <b>Set</b> é uma estrutura que não vimos ainda, mas é para muitos cenários bem útil, esse objeto tem sintaxe de dicionário, mas não permite valores duplicados, são imutáveis e não possuem enereço para os valores dentro dele.<br><br>\n",
        "Os métodos que ele possui são os seguintes:\n",
        "<br>\n",
        "1. add() ->\tAdiciona um elemento.<br>\n",
        "2. clear()\t-> Remove todos os elementos.<br>\n",
        "3. copy()\t->\tRetorna uma cópia.<br>\n",
        "4. difference()\t->\tRetorna a diferença entre 2 ou mais sets.<br>\n",
        "5. difference_update()\t->\tRemove os itens desse set que já está contido em algum outro.<br>\n",
        "6. discard()\t->\tRemove algum item específico.<br>\n",
        "7. intersection()\t->\tRetorna um set que é a intersecção entre outros dois sets.<br>\n",
        "8. intersection_update()\t->\tRemove os items desse set que não estão especificados em outro set.<br>\n",
        "9. isdisjoint()\t->\tRetorna se os sets tem uma intersecção ou não.<br>\n",
        "10. issubset()\t->\tRetorna se outro set contém esse set ou não.<br>\n",
        "11. issuperset()\t->\tRetorna se esse set contém outro set ou não<br>\n",
        "12. pop()\t->\tRemove um elemento desse set.<br>\n",
        "13. remove()\t->\tRemove um elemento especificado.<br>\n",
        "14. symmetric_difference()\t->\tRetorna um set com a diferença simétrica entre os dois sets.<br>\n",
        "15. symmetric_difference_update()\t->\tinsere as diferenças simétricas entre esse set e outro.<br>\n",
        "16. union()\t->\tRetorna um set contendo a união dos sets.<br>\n",
        "17. update()\t->\tAtualiza o set com a união dele com outro set.<br> <br> Como alguns tem funcionamento similares aos que vimos em outros construtores, vamos focar com os novos específicos para set."
      ]
    },
    {
      "cell_type": "markdown",
      "metadata": {
        "id": "cMWjECvuLj3K"
      },
      "source": [
        "**Diference()**"
      ]
    },
    {
      "cell_type": "code",
      "metadata": {
        "colab": {
          "base_uri": "https://localhost:8080/"
        },
        "id": "rhIL1hsyLqI8",
        "outputId": "8854923c-ad64-46ac-ddcd-fad546a4ebc2"
      },
      "source": [
        "set_1 = {1,2,3,4,5,6,7}\n",
        "set_2 = {0,3,4,5,6,7,8,9}\n",
        "print(set_1.difference(set_2))\n",
        "print(set_2.difference(set_1))"
      ],
      "execution_count": null,
      "outputs": [
        {
          "output_type": "stream",
          "text": [
            "{1, 2}\n",
            "{0, 8, 9}\n"
          ],
          "name": "stdout"
        }
      ]
    },
    {
      "cell_type": "markdown",
      "metadata": {
        "id": "xPBFYUb_L7IE"
      },
      "source": [
        "**Diference_update()**"
      ]
    },
    {
      "cell_type": "code",
      "metadata": {
        "colab": {
          "base_uri": "https://localhost:8080/"
        },
        "id": "zJb1NHvPL6BD",
        "outputId": "e2c5b312-5c65-4f1b-d7df-7da64036f17a"
      },
      "source": [
        "print(set_1)\n",
        "set_1.difference_update(set_2)\n",
        "print(set_1)"
      ],
      "execution_count": null,
      "outputs": [
        {
          "output_type": "stream",
          "text": [
            "{1, 2, 3, 4, 5, 6, 7}\n",
            "{1, 2}\n"
          ],
          "name": "stdout"
        }
      ]
    },
    {
      "cell_type": "markdown",
      "metadata": {
        "id": "lymaB2vSMLgu"
      },
      "source": [
        "**intersection()**"
      ]
    },
    {
      "cell_type": "code",
      "metadata": {
        "colab": {
          "base_uri": "https://localhost:8080/"
        },
        "id": "PjQiULrOMiwC",
        "outputId": "b2c915bd-4241-40d7-8669-b809a9fbc952"
      },
      "source": [
        "print(set_2)\n",
        "set_3={1,2,3,4,7,0,9}\n",
        "print(set_3)\n",
        "print(set_2.intersection(set_3))"
      ],
      "execution_count": null,
      "outputs": [
        {
          "output_type": "stream",
          "text": [
            "{0, 3, 4, 5, 6, 7, 8, 9}\n",
            "{0, 1, 2, 3, 4, 7, 9}\n",
            "{0, 3, 4, 7, 9}\n"
          ],
          "name": "stdout"
        }
      ]
    },
    {
      "cell_type": "markdown",
      "metadata": {
        "id": "s3l_8TRWM5DA"
      },
      "source": [
        "**intersection_update()**"
      ]
    },
    {
      "cell_type": "code",
      "metadata": {
        "colab": {
          "base_uri": "https://localhost:8080/"
        },
        "id": "tv8W6861M-UA",
        "outputId": "4dcea740-143a-46c9-8145-b8c65f890e69"
      },
      "source": [
        "print(set_2)\n",
        "print(set_3)\n",
        "set_2.intersection_update(set_3)\n",
        "print(set_2)"
      ],
      "execution_count": null,
      "outputs": [
        {
          "output_type": "stream",
          "text": [
            "{0, 3, 4, 5, 6, 7, 8, 9}\n",
            "{0, 1, 2, 3, 4, 7, 9}\n",
            "{0, 3, 4, 7, 9}\n"
          ],
          "name": "stdout"
        }
      ]
    },
    {
      "cell_type": "markdown",
      "metadata": {
        "id": "0Z2Joo5_NRbf"
      },
      "source": [
        "**isdisjoint()**"
      ]
    },
    {
      "cell_type": "code",
      "metadata": {
        "colab": {
          "base_uri": "https://localhost:8080/"
        },
        "id": "HVkNz4-HNToo",
        "outputId": "a09d2d3c-e4ed-4d34-a09b-927a7fcfcaf7"
      },
      "source": [
        "print(set_1)\n",
        "print(set_2)\n",
        "print(set_3)\n",
        "set_4={77,33}\n",
        "print(set_4)\n",
        "print(set_2.isdisjoint(set_3))\n",
        "print(set_3.isdisjoint(set_1))\n",
        "print(set_3.isdisjoint(set_4))"
      ],
      "execution_count": null,
      "outputs": [
        {
          "output_type": "stream",
          "text": [
            "{1, 2}\n",
            "{0, 3, 4, 7, 9}\n",
            "{0, 1, 2, 3, 4, 7, 9}\n",
            "{33, 77}\n",
            "False\n",
            "False\n",
            "True\n"
          ],
          "name": "stdout"
        }
      ]
    },
    {
      "cell_type": "markdown",
      "metadata": {
        "id": "lqsrugqKOD1J"
      },
      "source": [
        "**issubset()**"
      ]
    },
    {
      "cell_type": "code",
      "metadata": {
        "colab": {
          "base_uri": "https://localhost:8080/"
        },
        "id": "pbQlKZkEOpHf",
        "outputId": "70785d6a-21b6-416f-c29e-4f04f763d017"
      },
      "source": [
        "set_5={1,2,3,4,5}\n",
        "set_6={0,1,2,3,4,5}\n",
        "print(set_5)\n",
        "print(set_6)\n",
        "print(set_5.issubset(set_6))\n",
        "print(set_6.issubset(set_5))"
      ],
      "execution_count": null,
      "outputs": [
        {
          "output_type": "stream",
          "text": [
            "{1, 2, 3, 4, 5}\n",
            "{0, 1, 2, 3, 4, 5}\n",
            "True\n",
            "False\n"
          ],
          "name": "stdout"
        }
      ]
    },
    {
      "cell_type": "markdown",
      "metadata": {
        "id": "lAezBvsaO-_f"
      },
      "source": [
        "**symmetric_difference()**"
      ]
    },
    {
      "cell_type": "code",
      "metadata": {
        "colab": {
          "base_uri": "https://localhost:8080/"
        },
        "id": "IDrpBjOYPAz6",
        "outputId": "78acc87d-e5e4-4166-9975-4293f26ac832"
      },
      "source": [
        "print(set_5)\n",
        "print(set_3)\n",
        "print(set_5.symmetric_difference(set_3))"
      ],
      "execution_count": null,
      "outputs": [
        {
          "output_type": "stream",
          "text": [
            "{1, 2, 3, 4, 5}\n",
            "{0, 1, 2, 3, 4, 7, 9}\n",
            "{0, 5, 7, 9}\n"
          ],
          "name": "stdout"
        }
      ]
    },
    {
      "cell_type": "markdown",
      "metadata": {
        "id": "hUNynoxcPBD4"
      },
      "source": [
        "**Union**"
      ]
    },
    {
      "cell_type": "code",
      "metadata": {
        "colab": {
          "base_uri": "https://localhost:8080/"
        },
        "id": "L6LnMrE_PEH6",
        "outputId": "22f10e91-c889-4554-f6df-03ac6cc96300"
      },
      "source": [
        "print(set_5)\n",
        "print(set_3)\n",
        "print(set_5.union(set_3))"
      ],
      "execution_count": null,
      "outputs": [
        {
          "output_type": "stream",
          "text": [
            "{1, 2, 3, 4, 5}\n",
            "{0, 1, 2, 3, 4, 7, 9}\n",
            "{0, 1, 2, 3, 4, 5, 7, 9}\n"
          ],
          "name": "stdout"
        }
      ]
    },
    {
      "cell_type": "markdown",
      "metadata": {
        "id": "K6S7ZlFzPEY6"
      },
      "source": [
        "**Update()**"
      ]
    },
    {
      "cell_type": "code",
      "metadata": {
        "colab": {
          "base_uri": "https://localhost:8080/"
        },
        "id": "WcTKCyOCPGz3",
        "outputId": "3870bfb7-f1cb-40bf-8840-ea5835eef828"
      },
      "source": [
        "print(set_5)\n",
        "print(set_3)\n",
        "set_5.update(set_3)\n",
        "print(set_5)"
      ],
      "execution_count": null,
      "outputs": [
        {
          "output_type": "stream",
          "text": [
            "{1, 2, 3, 4, 5}\n",
            "{0, 1, 2, 3, 4, 7, 9}\n",
            "{0, 1, 2, 3, 4, 5, 7, 9}\n"
          ],
          "name": "stdout"
        }
      ]
    },
    {
      "cell_type": "markdown",
      "metadata": {
        "id": "W__oE4ASP_rH"
      },
      "source": [
        "**Complementando**"
      ]
    },
    {
      "cell_type": "code",
      "metadata": {
        "colab": {
          "base_uri": "https://localhost:8080/"
        },
        "id": "-CzY9sYkM3PW",
        "outputId": "368f8477-ec78-4ab1-81ec-40f83391b19a"
      },
      "source": [
        "set_1 = {1,2,3,4,5}\n",
        "print(set_1)\n",
        "tupla=(1,2,3,4,5,6,5,4,6,7)\n",
        "print(tupla)\n",
        "print(set(tupla))\n",
        "set_2={1,1,2,2,3,3,4,5,6,7,8,9,0}\n",
        "print(set_2)"
      ],
      "execution_count": null,
      "outputs": [
        {
          "output_type": "stream",
          "text": [
            "{1, 2, 3, 4, 5}\n",
            "(1, 2, 3, 4, 5, 6, 5, 4, 6, 7)\n",
            "{1, 2, 3, 4, 5, 6, 7}\n",
            "{0, 1, 2, 3, 4, 5, 6, 7, 8, 9}\n"
          ],
          "name": "stdout"
        }
      ]
    },
    {
      "cell_type": "code",
      "metadata": {
        "colab": {
          "base_uri": "https://localhost:8080/"
        },
        "id": "QjCcsIDVTm1w",
        "outputId": "fd97b624-0385-44cf-fa7a-5df44cc7f53f"
      },
      "source": [
        "set_3 ={True,False,True,False,0,2,3,\"oi\"}\n",
        "print(set_3)#reparem que ele rmeoveu o 0"
      ],
      "execution_count": null,
      "outputs": [
        {
          "output_type": "stream",
          "text": [
            "{False, True, 2, 3, 'oi'}\n"
          ],
          "name": "stdout"
        }
      ]
    },
    {
      "cell_type": "markdown",
      "metadata": {
        "id": "6JNsXVpdPICs"
      },
      "source": [
        "<h1>Exercícios:<h1>"
      ]
    },
    {
      "cell_type": "markdown",
      "metadata": {
        "id": "RIh9DRYRPRYH"
      },
      "source": [
        "1. Crie uma tupla e ordene ela.\n",
        "\n"
      ]
    },
    {
      "cell_type": "code",
      "metadata": {
        "id": "cN42M5YJPP4r"
      },
      "source": [
        ""
      ],
      "execution_count": null,
      "outputs": []
    },
    {
      "cell_type": "markdown",
      "metadata": {
        "id": "ooHbr2yfeHe-"
      },
      "source": [
        "2. Remova todos os valores duplicados da tupla."
      ]
    },
    {
      "cell_type": "code",
      "metadata": {
        "id": "G5OwUn5JPG39"
      },
      "source": [
        ""
      ],
      "execution_count": null,
      "outputs": []
    },
    {
      "cell_type": "markdown",
      "metadata": {
        "id": "GLnWQ_toeaX3"
      },
      "source": [
        "3. Crie uma função que busque um determinado valor em uma tupla e retorne a quantidade de vezes que esse valor aparece.\n"
      ]
    },
    {
      "cell_type": "code",
      "metadata": {
        "id": "8wlFzVjleZmO"
      },
      "source": [
        ""
      ],
      "execution_count": null,
      "outputs": []
    },
    {
      "cell_type": "markdown",
      "metadata": {
        "id": "DHLwJ4qEQQET"
      },
      "source": [
        "4. Crie dois sets e atribua no primeiro a diferença simétrica entre os dois."
      ]
    },
    {
      "cell_type": "code",
      "metadata": {
        "id": "EuexscGeQX5S"
      },
      "source": [
        ""
      ],
      "execution_count": null,
      "outputs": []
    },
    {
      "cell_type": "markdown",
      "metadata": {
        "id": "HuqVDpjGQYwt"
      },
      "source": [
        "5. Faça a união entre os dois sets e salve o resultado em um terceiro set."
      ]
    },
    {
      "cell_type": "code",
      "metadata": {
        "id": "n9W9NovhQecV"
      },
      "source": [
        ""
      ],
      "execution_count": null,
      "outputs": []
    },
    {
      "cell_type": "markdown",
      "metadata": {
        "id": "AxcaRdExU1ZN"
      },
      "source": [
        "<h1>Dicionários</h1> <br> \n",
        "Dicionários como já vimos, armazena valores em pares de chave:valor. É muito utilizado com dados semi-estruturados e para trabalhar com arquivos JSON<br><br>\n",
        "\n",
        "1.   clear()\t-> Limpa todos os elementos do dicionário.\n",
        "2. copy()\t-> Retorna uma cópia do dicionário.\n",
        "3. fromkeys(x,y)\t-> Retorna um dicionário com as chaves e opcionalmente pode já atribuir os valores.\n",
        "4. get()\t-> Retorna o valor da chave especificada.\n",
        "5. items()\t-> Retorna uma tupla contendo a chave e valor de cada elemento.\n",
        "6. keys()\t-> Retorna todas as chaves existentes no dicionário.\n",
        "7. pop()\t-> Remove o elemento com a chave especificada.\n",
        "8. popitem()\t-> Remove o último elemento com chave:valor.\n",
        "9. setdefault()\t-> Retorna o valor da chave específicada. Caso não exista, insere a chave com o específicado valor.\n",
        "10. update()\t-> Atualiza o dicionário com a chave:valor especificados.\n",
        "11. values()\t-> Retorna todos os valores dentro do dicionário.\n",
        "\n",
        "\n",
        "<br> Vamos seguir a mesma estratégia que usamos com set e focar nos novos métodos que apareceram. <br>\n",
        "\n"
      ]
    },
    {
      "cell_type": "markdown",
      "metadata": {
        "id": "WxIF5zl4S7pQ"
      },
      "source": [
        "**Fromkeys()**"
      ]
    },
    {
      "cell_type": "code",
      "metadata": {
        "colab": {
          "base_uri": "https://localhost:8080/"
        },
        "id": "OzB9Z5JsZjev",
        "outputId": "cd48bad4-3670-4a76-fd67-1f63198ec1d3"
      },
      "source": [
        "chaves=[\"id_1\",\"id_2\",\"id_3\"]\n",
        "dicionario_1 = dict.fromkeys(chaves)\n",
        "print(dicionario_1)\n",
        "\n",
        "chaves=[\"id_1\",\"id_2\",\"id_3\"]\n",
        "valor=7\n",
        "dicionario_2 = dict.fromkeys(chaves,valor)\n",
        "print(dicionario_2)\n",
        "\n",
        "chaves=[\"id_1\",\"id_2\",\"id_3\"]\n",
        "valores=[12,123,1234]\n",
        "dicionario_3 = dict.fromkeys(chaves,valores)\n",
        "print(dicionario_3)"
      ],
      "execution_count": null,
      "outputs": [
        {
          "output_type": "stream",
          "text": [
            "{'id_1': None, 'id_2': None, 'id_3': None}\n",
            "{'id_1': 7, 'id_2': 7, 'id_3': 7}\n",
            "{'id_1': [12, 123, 1234], 'id_2': [12, 123, 1234], 'id_3': [12, 123, 1234]}\n"
          ],
          "name": "stdout"
        }
      ]
    },
    {
      "cell_type": "markdown",
      "metadata": {
        "id": "Ja_tIcrgTbbC"
      },
      "source": [
        "**Get()**"
      ]
    },
    {
      "cell_type": "code",
      "metadata": {
        "colab": {
          "base_uri": "https://localhost:8080/"
        },
        "id": "QrLM-RPwTd7U",
        "outputId": "9f10d83f-1fc2-4ed8-fff3-fd1147830a3b"
      },
      "source": [
        "print(dicionario_3.get(\"id_1\"))\n",
        "print(dicionario_3.get(\"id_4\",\"Não tem\"))"
      ],
      "execution_count": null,
      "outputs": [
        {
          "output_type": "stream",
          "text": [
            "[12, 123, 1234]\n",
            "Não tem\n"
          ],
          "name": "stdout"
        }
      ]
    },
    {
      "cell_type": "markdown",
      "metadata": {
        "id": "CWLNL4jwS_t7"
      },
      "source": [
        "**Items()**"
      ]
    },
    {
      "cell_type": "code",
      "metadata": {
        "colab": {
          "base_uri": "https://localhost:8080/"
        },
        "id": "k-fBA6EDeiav",
        "outputId": "b6a1e083-b2e2-4086-e29c-e4a0ee8265b7"
      },
      "source": [
        "dicionario_3.items()\n"
      ],
      "execution_count": null,
      "outputs": [
        {
          "output_type": "execute_result",
          "data": {
            "text/plain": [
              "dict_items([('id_1', [12, 123, 1234]), ('id_2', [12, 123, 1234]), ('id_3', [12, 123, 1234])])"
            ]
          },
          "metadata": {
            "tags": []
          },
          "execution_count": 7
        }
      ]
    },
    {
      "cell_type": "markdown",
      "metadata": {
        "id": "cFXM5W8DTFJA"
      },
      "source": [
        "**Keys()**"
      ]
    },
    {
      "cell_type": "code",
      "metadata": {
        "colab": {
          "base_uri": "https://localhost:8080/"
        },
        "id": "djjDnRzYe2w1",
        "outputId": "17c8f556-3ab6-40af-b897-13eed7cb4826"
      },
      "source": [
        "dicionario_3.keys()\n"
      ],
      "execution_count": null,
      "outputs": [
        {
          "output_type": "execute_result",
          "data": {
            "text/plain": [
              "dict_keys(['id_1', 'id_2', 'id_3'])"
            ]
          },
          "metadata": {
            "tags": []
          },
          "execution_count": 8
        }
      ]
    },
    {
      "cell_type": "markdown",
      "metadata": {
        "id": "_bcJq5GiTHou"
      },
      "source": [
        "**Setdefault()**"
      ]
    },
    {
      "cell_type": "code",
      "metadata": {
        "colab": {
          "base_uri": "https://localhost:8080/"
        },
        "id": "ilSPSvKEe__c",
        "outputId": "dc246876-f663-4142-a0ec-17310d86ed27"
      },
      "source": [
        "print(dicionario_3.setdefault(\"id_3\",333))\n",
        "print(dicionario_3.setdefault(\"id_4\",333))"
      ],
      "execution_count": null,
      "outputs": [
        {
          "output_type": "stream",
          "text": [
            "[12, 123, 1234]\n",
            "333\n"
          ],
          "name": "stdout"
        }
      ]
    },
    {
      "cell_type": "markdown",
      "metadata": {
        "id": "xd3SUTFGTMwD"
      },
      "source": [
        "**Values()**"
      ]
    },
    {
      "cell_type": "code",
      "metadata": {
        "colab": {
          "base_uri": "https://localhost:8080/"
        },
        "id": "waYZfb1CfH4h",
        "outputId": "b7cca336-e5bb-4827-ed7d-ecc8e32320b8"
      },
      "source": [
        "print(dicionario_3.values())\n",
        "print(type(dicionario_3.values()))\n",
        "print(dicionario_3['id_3'])\n",
        "print(type(dicionario_3['id_3']))\n",
        "print(dicionario_3['id_3'][0])\n",
        "print(dicionario_3['id_4'])"
      ],
      "execution_count": null,
      "outputs": [
        {
          "output_type": "stream",
          "text": [
            "dict_values([[12, 123, 1234], [12, 123, 1234], [12, 123, 1234], 333])\n",
            "<class 'dict_values'>\n",
            "[12, 123, 1234]\n",
            "<class 'list'>\n",
            "12\n",
            "333\n"
          ],
          "name": "stdout"
        }
      ]
    },
    {
      "cell_type": "markdown",
      "metadata": {
        "id": "mh8CkocUifdq"
      },
      "source": [
        "<h1>Exercícios:<h1>"
      ]
    },
    {
      "cell_type": "markdown",
      "metadata": {
        "id": "hGUvybhwiiq7"
      },
      "source": [
        "1. Crie um dicionário com nome, sobrenome e apelido de 3 usuários."
      ]
    },
    {
      "cell_type": "code",
      "metadata": {
        "id": "141ZiDdMiX37"
      },
      "source": [
        ""
      ],
      "execution_count": null,
      "outputs": []
    },
    {
      "cell_type": "markdown",
      "metadata": {
        "id": "GoR9YOiQi0As"
      },
      "source": [
        "2. Procure o atributo idade para o usuário 1 e caso não tenha adicione o valor 30 nesse campo."
      ]
    },
    {
      "cell_type": "code",
      "metadata": {
        "id": "dn1MtzCgi6IE"
      },
      "source": [
        ""
      ],
      "execution_count": null,
      "outputs": []
    },
    {
      "cell_type": "markdown",
      "metadata": {
        "id": "5wrR3XEii66D"
      },
      "source": [
        "3. Conte a quantidade de nomes e sobrenomes contidos no dicionário."
      ]
    },
    {
      "cell_type": "code",
      "metadata": {
        "id": "i-598aXFjASR"
      },
      "source": [
        ""
      ],
      "execution_count": null,
      "outputs": []
    },
    {
      "cell_type": "markdown",
      "metadata": {
        "id": "S5yWeJyfjA2K"
      },
      "source": [
        "4. Verifique se há dois nomes repetidos."
      ]
    },
    {
      "cell_type": "code",
      "metadata": {
        "id": "qMEUMRPBjHVV"
      },
      "source": [
        ""
      ],
      "execution_count": null,
      "outputs": []
    }
  ]
}